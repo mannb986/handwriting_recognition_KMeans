{
 "cells": [
  {
   "cell_type": "markdown",
   "metadata": {},
   "source": [
    "# Handwriting Recognition using K-Means\n",
    "\n",
    "The U.S. Postal Service has been using machine learning and scanning technologies since 1999. Because its postal offices have to look at roughly half a billion pieces of mail every day, they have done extensive research and developed very efficient algorithms for reading and understanding addresses. And not only the post office:\n",
    "\n",
    "- ATMs can recognize handwritten bank checks\n",
    "- Evernote can recognize handwritten task lists\n",
    "- Expensify can recognize handwritten receipts\n",
    "\n",
    "But how do they do it?\n",
    "\n",
    "In this project, I will be using K-means clustering (the algorithm behind this magic) and scikit-learn to cluster images of handwritten digits."
   ]
  },
  {
   "cell_type": "markdown",
   "metadata": {},
   "source": [
    "### Getting Started with the Dataset"
   ]
  },
  {
   "cell_type": "code",
   "execution_count": 3,
   "metadata": {
    "tags": []
   },
   "outputs": [
    {
     "output_type": "stream",
     "name": "stdout",
     "text": ".. _digits_dataset:\n\nOptical recognition of handwritten digits dataset\n--------------------------------------------------\n\n**Data Set Characteristics:**\n\n    :Number of Instances: 1797\n    :Number of Attributes: 64\n    :Attribute Information: 8x8 image of integer pixels in the range 0..16.\n    :Missing Attribute Values: None\n    :Creator: E. Alpaydin (alpaydin '@' boun.edu.tr)\n    :Date: July; 1998\n\nThis is a copy of the test set of the UCI ML hand-written digits datasets\nhttps://archive.ics.uci.edu/ml/datasets/Optical+Recognition+of+Handwritten+Digits\n\nThe data set contains images of hand-written digits: 10 classes where\neach class refers to a digit.\n\nPreprocessing programs made available by NIST were used to extract\nnormalized bitmaps of handwritten digits from a preprinted form. From a\ntotal of 43 people, 30 contributed to the training set and different 13\nto the test set. 32x32 bitmaps are divided into nonoverlapping blocks of\n4x4 and the number of on pixels are counted in each block. This generates\nan input matrix of 8x8 where each element is an integer in the range\n0..16. This reduces dimensionality and gives invariance to small\ndistortions.\n\nFor info on NIST preprocessing routines, see M. D. Garris, J. L. Blue, G.\nT. Candela, D. L. Dimmick, J. Geist, P. J. Grother, S. A. Janet, and C.\nL. Wilson, NIST Form-Based Handprint Recognition System, NISTIR 5469,\n1994.\n\n.. topic:: References\n\n  - C. Kaynak (1995) Methods of Combining Multiple Classifiers and Their\n    Applications to Handwritten Digit Recognition, MSc Thesis, Institute of\n    Graduate Studies in Science and Engineering, Bogazici University.\n  - E. Alpaydin, C. Kaynak (1998) Cascading Classifiers, Kybernetika.\n  - Ken Tang and Ponnuthurai N. Suganthan and Xi Yao and A. Kai Qin.\n    Linear dimensionalityreduction using relevance weighted LDA. School of\n    Electrical and Electronic Engineering Nanyang Technological University.\n    2005.\n  - Claudio Gentile. A New Approximate Maximal Margin Classification\n    Algorithm. NIPS. 2000.\n\n"
    }
   ],
   "source": [
    "import numpy as np\n",
    "from matplotlib import pyplot as plt\n",
    "from sklearn import datasets\n",
    "\n",
    "digits = datasets.load_digits()\n",
    "print(digits.DESCR)"
   ]
  },
  {
   "cell_type": "markdown",
   "metadata": {},
   "source": [
    "Let's see what the data looks like. "
   ]
  },
  {
   "cell_type": "code",
   "execution_count": 4,
   "metadata": {
    "tags": []
   },
   "outputs": [
    {
     "output_type": "stream",
     "name": "stdout",
     "text": "[[ 0.  0.  5. ...  0.  0.  0.]\n [ 0.  0.  0. ... 10.  0.  0.]\n [ 0.  0.  0. ... 16.  9.  0.]\n ...\n [ 0.  0.  1. ...  6.  0.  0.]\n [ 0.  0.  2. ... 12.  0.  0.]\n [ 0.  0. 10. ... 12.  1.  0.]]\n"
    }
   ],
   "source": [
    "print(digits.data)"
   ]
  },
  {
   "cell_type": "markdown",
   "metadata": {},
   "source": [
    "Let's see what the target values. "
   ]
  },
  {
   "cell_type": "code",
   "execution_count": 5,
   "metadata": {
    "tags": []
   },
   "outputs": [
    {
     "output_type": "stream",
     "name": "stdout",
     "text": "[0 1 2 ... 8 9 8]\n"
    }
   ],
   "source": [
    "print(digits.target)"
   ]
  },
  {
   "cell_type": "markdown",
   "metadata": {},
   "source": [
    "Let's visualise the data images, i'll pick the image at index 100. "
   ]
  },
  {
   "cell_type": "code",
   "execution_count": 6,
   "metadata": {},
   "outputs": [
    {
     "output_type": "display_data",
     "data": {
      "text/plain": "<Figure size 432x288 with 0 Axes>"
     },
     "metadata": {}
    },
    {
     "output_type": "display_data",
     "data": {
      "text/plain": "<Figure size 288x288 with 1 Axes>",
      "image/svg+xml": "<?xml version=\"1.0\" encoding=\"utf-8\" standalone=\"no\"?>\n<!DOCTYPE svg PUBLIC \"-//W3C//DTD SVG 1.1//EN\"\n  \"http://www.w3.org/Graphics/SVG/1.1/DTD/svg11.dtd\">\n<!-- Created with matplotlib (https://matplotlib.org/) -->\n<svg height=\"257.778125pt\" version=\"1.1\" viewBox=\"0 0 250.9625 257.778125\" width=\"250.9625pt\" xmlns=\"http://www.w3.org/2000/svg\" xmlns:xlink=\"http://www.w3.org/1999/xlink\">\n <metadata>\n  <rdf:RDF xmlns:cc=\"http://creativecommons.org/ns#\" xmlns:dc=\"http://purl.org/dc/elements/1.1/\" xmlns:rdf=\"http://www.w3.org/1999/02/22-rdf-syntax-ns#\">\n   <cc:Work>\n    <dc:type rdf:resource=\"http://purl.org/dc/dcmitype/StillImage\"/>\n    <dc:date>2021-04-30T07:25:11.657973</dc:date>\n    <dc:format>image/svg+xml</dc:format>\n    <dc:creator>\n     <cc:Agent>\n      <dc:title>Matplotlib v3.3.4, https://matplotlib.org/</dc:title>\n     </cc:Agent>\n    </dc:creator>\n   </cc:Work>\n  </rdf:RDF>\n </metadata>\n <defs>\n  <style type=\"text/css\">*{stroke-linecap:butt;stroke-linejoin:round;}</style>\n </defs>\n <g id=\"figure_1\">\n  <g id=\"patch_1\">\n   <path d=\"M 0 257.778125 \nL 250.9625 257.778125 \nL 250.9625 0 \nL 0 0 \nz\n\" style=\"fill:none;\"/>\n  </g>\n  <g id=\"axes_1\">\n   <g id=\"patch_2\">\n    <path d=\"M 20.5625 247.078125 \nL 243.7625 247.078125 \nL 243.7625 23.878125 \nL 20.5625 23.878125 \nz\n\" style=\"fill:#ffffff;\"/>\n   </g>\n   <g clip-path=\"url(#pab7e319dd4)\">\n    <image height=\"224\" id=\"imageea52e58b54\" transform=\"scale(1 -1)translate(0 -224)\" width=\"224\" x=\"20.5625\" xlink:href=\"data:image/png;base64,\niVBORw0KGgoAAAANSUhEUgAAAOAAAADgCAYAAAAaLWrhAAADW0lEQVR4nO3dUVFjURRFwZspBOCAxAEOIA5wEAlEAhKQEAmRgIRIwAE4yJgYzqoJ3Qb2+Xir7ufbrLWui//W5XIZ3Xt/fx/dO51Oo3vT/tQHwG8mQAgJEEIChJAAISRACAkQQgKEkAAhJEAICRBCAoSQACEkQAgJEEIChJAAISRACAkQQgKEkAAhJEAICRBCAoSQACEkQAgJEEJ39QH8X7bbbX3CTfECQkiAEBIghAQIIQFCSIAQEiCEBAghAUJIgBASIIQECCEBQkiAEBIghAQIIQFCSIAQEiCEBAghAUJIgBASIIQECCEBQkiAEBIghDZrrWt9xE86nU6je8/Pz6N7Dw8Po3vT9vv96N7Hx8fonhcQQgKEkAAhJEAICRBCAoSQACEkQAgJEEIChJAAISRACAkQQgKEkAAhJEAICRBCAoSQACEkQAgJEEIChJAAISRACAkQQgKEkAAhdDc9OP3vhMPhMLq32+1G947H4+je6+vr6N709+LfEPCLCBBCAoSQACEkQAgJEEIChJAAISRACAkQQgKEkAAhJEAICRBCAoSQACEkQAgJEEIChJAAISRACAkQQgKEkAAhJEAICRBCAoTQZq11rY/4Sd/f36N7l8tldO/l5WV07+vra3Rvv9+P7vk3BPwiAoSQACEkQAgJEEIChJAAISRACAkQQgKEkAAhJEAICRBCAoSQACEkQAgJEEIChJAAISRACAkQQgKEkAAhJEAICRBCAoSQACF0Vx/w0w6Hw+je+Xwe3Xt6ehrd2+12o3ufn5+je9O8gBASIIQECCEBQkiAEBIghAQIIQFCSIAQEiCEBAghAUJIgBASIIQECCEBQkiAEBIghAQIIQFCSIAQEiCEBAghAUJIgBASIIQECKHNWutaH3FL3t7eRveOx+Po3v39/ejerfMCQkiAEBIghAQIIQFCSIAQEiCEBAghAUJIgBASIIQECCEBQkiAEBIghAQIIQFCSIAQEiCEBAghAUJIgBASIIQECCEBQkiAEBIghPwb4h/bbreje+fzeXTv8fFxdO/WeQEhJEAICRBCAoSQACEkQAgJEEIChJAAISRACAkQQgKEkAAhJEAICRBCAoSQACEkQAgJEEIChJAAISRACAkQQgKEkAAhJEAICRBCfwFfQzPnBEO25gAAAABJRU5ErkJggg==\" y=\"-23.078125\"/>\n   </g>\n   <g id=\"matplotlib.axis_1\">\n    <g id=\"xtick_1\">\n     <g id=\"line2d_1\">\n      <defs>\n       <path d=\"M 0 0 \nL 0 3.5 \n\" id=\"m21cbbf2703\" style=\"stroke:#000000;stroke-width:0.8;\"/>\n      </defs>\n      <g>\n       <use style=\"stroke:#000000;stroke-width:0.8;\" x=\"34.5125\" xlink:href=\"#m21cbbf2703\" y=\"247.078125\"/>\n      </g>\n     </g>\n     <g id=\"line2d_2\">\n      <defs>\n       <path d=\"M 0 0 \nL 0 -3.5 \n\" id=\"m6c8e815d93\" style=\"stroke:#000000;stroke-width:0.8;\"/>\n      </defs>\n      <g>\n       <use style=\"stroke:#000000;stroke-width:0.8;\" x=\"34.5125\" xlink:href=\"#m6c8e815d93\" y=\"23.878125\"/>\n      </g>\n     </g>\n     <g id=\"text_1\">\n      <!-- 0 -->\n      <g transform=\"translate(31.33125 14.798438)scale(0.1 -0.1)\">\n       <defs>\n        <path d=\"M 31.78125 66.40625 \nQ 24.171875 66.40625 20.328125 58.90625 \nQ 16.5 51.421875 16.5 36.375 \nQ 16.5 21.390625 20.328125 13.890625 \nQ 24.171875 6.390625 31.78125 6.390625 \nQ 39.453125 6.390625 43.28125 13.890625 \nQ 47.125 21.390625 47.125 36.375 \nQ 47.125 51.421875 43.28125 58.90625 \nQ 39.453125 66.40625 31.78125 66.40625 \nz\nM 31.78125 74.21875 \nQ 44.046875 74.21875 50.515625 64.515625 \nQ 56.984375 54.828125 56.984375 36.375 \nQ 56.984375 17.96875 50.515625 8.265625 \nQ 44.046875 -1.421875 31.78125 -1.421875 \nQ 19.53125 -1.421875 13.0625 8.265625 \nQ 6.59375 17.96875 6.59375 36.375 \nQ 6.59375 54.828125 13.0625 64.515625 \nQ 19.53125 74.21875 31.78125 74.21875 \nz\n\" id=\"DejaVuSans-48\"/>\n       </defs>\n       <use xlink:href=\"#DejaVuSans-48\"/>\n      </g>\n     </g>\n    </g>\n    <g id=\"xtick_2\">\n     <g id=\"line2d_3\">\n      <g>\n       <use style=\"stroke:#000000;stroke-width:0.8;\" x=\"62.4125\" xlink:href=\"#m21cbbf2703\" y=\"247.078125\"/>\n      </g>\n     </g>\n     <g id=\"line2d_4\">\n      <g>\n       <use style=\"stroke:#000000;stroke-width:0.8;\" x=\"62.4125\" xlink:href=\"#m6c8e815d93\" y=\"23.878125\"/>\n      </g>\n     </g>\n     <g id=\"text_2\">\n      <!-- 1 -->\n      <g transform=\"translate(59.23125 14.798438)scale(0.1 -0.1)\">\n       <defs>\n        <path d=\"M 12.40625 8.296875 \nL 28.515625 8.296875 \nL 28.515625 63.921875 \nL 10.984375 60.40625 \nL 10.984375 69.390625 \nL 28.421875 72.90625 \nL 38.28125 72.90625 \nL 38.28125 8.296875 \nL 54.390625 8.296875 \nL 54.390625 0 \nL 12.40625 0 \nz\n\" id=\"DejaVuSans-49\"/>\n       </defs>\n       <use xlink:href=\"#DejaVuSans-49\"/>\n      </g>\n     </g>\n    </g>\n    <g id=\"xtick_3\">\n     <g id=\"line2d_5\">\n      <g>\n       <use style=\"stroke:#000000;stroke-width:0.8;\" x=\"90.3125\" xlink:href=\"#m21cbbf2703\" y=\"247.078125\"/>\n      </g>\n     </g>\n     <g id=\"line2d_6\">\n      <g>\n       <use style=\"stroke:#000000;stroke-width:0.8;\" x=\"90.3125\" xlink:href=\"#m6c8e815d93\" y=\"23.878125\"/>\n      </g>\n     </g>\n     <g id=\"text_3\">\n      <!-- 2 -->\n      <g transform=\"translate(87.13125 14.798438)scale(0.1 -0.1)\">\n       <defs>\n        <path d=\"M 19.1875 8.296875 \nL 53.609375 8.296875 \nL 53.609375 0 \nL 7.328125 0 \nL 7.328125 8.296875 \nQ 12.9375 14.109375 22.625 23.890625 \nQ 32.328125 33.6875 34.8125 36.53125 \nQ 39.546875 41.84375 41.421875 45.53125 \nQ 43.3125 49.21875 43.3125 52.78125 \nQ 43.3125 58.59375 39.234375 62.25 \nQ 35.15625 65.921875 28.609375 65.921875 \nQ 23.96875 65.921875 18.8125 64.3125 \nQ 13.671875 62.703125 7.8125 59.421875 \nL 7.8125 69.390625 \nQ 13.765625 71.78125 18.9375 73 \nQ 24.125 74.21875 28.421875 74.21875 \nQ 39.75 74.21875 46.484375 68.546875 \nQ 53.21875 62.890625 53.21875 53.421875 \nQ 53.21875 48.921875 51.53125 44.890625 \nQ 49.859375 40.875 45.40625 35.40625 \nQ 44.1875 33.984375 37.640625 27.21875 \nQ 31.109375 20.453125 19.1875 8.296875 \nz\n\" id=\"DejaVuSans-50\"/>\n       </defs>\n       <use xlink:href=\"#DejaVuSans-50\"/>\n      </g>\n     </g>\n    </g>\n    <g id=\"xtick_4\">\n     <g id=\"line2d_7\">\n      <g>\n       <use style=\"stroke:#000000;stroke-width:0.8;\" x=\"118.2125\" xlink:href=\"#m21cbbf2703\" y=\"247.078125\"/>\n      </g>\n     </g>\n     <g id=\"line2d_8\">\n      <g>\n       <use style=\"stroke:#000000;stroke-width:0.8;\" x=\"118.2125\" xlink:href=\"#m6c8e815d93\" y=\"23.878125\"/>\n      </g>\n     </g>\n     <g id=\"text_4\">\n      <!-- 3 -->\n      <g transform=\"translate(115.03125 14.798438)scale(0.1 -0.1)\">\n       <defs>\n        <path d=\"M 40.578125 39.3125 \nQ 47.65625 37.796875 51.625 33 \nQ 55.609375 28.21875 55.609375 21.1875 \nQ 55.609375 10.40625 48.1875 4.484375 \nQ 40.765625 -1.421875 27.09375 -1.421875 \nQ 22.515625 -1.421875 17.65625 -0.515625 \nQ 12.796875 0.390625 7.625 2.203125 \nL 7.625 11.71875 \nQ 11.71875 9.328125 16.59375 8.109375 \nQ 21.484375 6.890625 26.8125 6.890625 \nQ 36.078125 6.890625 40.9375 10.546875 \nQ 45.796875 14.203125 45.796875 21.1875 \nQ 45.796875 27.640625 41.28125 31.265625 \nQ 36.765625 34.90625 28.71875 34.90625 \nL 20.21875 34.90625 \nL 20.21875 43.015625 \nL 29.109375 43.015625 \nQ 36.375 43.015625 40.234375 45.921875 \nQ 44.09375 48.828125 44.09375 54.296875 \nQ 44.09375 59.90625 40.109375 62.90625 \nQ 36.140625 65.921875 28.71875 65.921875 \nQ 24.65625 65.921875 20.015625 65.03125 \nQ 15.375 64.15625 9.8125 62.3125 \nL 9.8125 71.09375 \nQ 15.4375 72.65625 20.34375 73.4375 \nQ 25.25 74.21875 29.59375 74.21875 \nQ 40.828125 74.21875 47.359375 69.109375 \nQ 53.90625 64.015625 53.90625 55.328125 \nQ 53.90625 49.265625 50.4375 45.09375 \nQ 46.96875 40.921875 40.578125 39.3125 \nz\n\" id=\"DejaVuSans-51\"/>\n       </defs>\n       <use xlink:href=\"#DejaVuSans-51\"/>\n      </g>\n     </g>\n    </g>\n    <g id=\"xtick_5\">\n     <g id=\"line2d_9\">\n      <g>\n       <use style=\"stroke:#000000;stroke-width:0.8;\" x=\"146.1125\" xlink:href=\"#m21cbbf2703\" y=\"247.078125\"/>\n      </g>\n     </g>\n     <g id=\"line2d_10\">\n      <g>\n       <use style=\"stroke:#000000;stroke-width:0.8;\" x=\"146.1125\" xlink:href=\"#m6c8e815d93\" y=\"23.878125\"/>\n      </g>\n     </g>\n     <g id=\"text_5\">\n      <!-- 4 -->\n      <g transform=\"translate(142.93125 14.798438)scale(0.1 -0.1)\">\n       <defs>\n        <path d=\"M 37.796875 64.3125 \nL 12.890625 25.390625 \nL 37.796875 25.390625 \nz\nM 35.203125 72.90625 \nL 47.609375 72.90625 \nL 47.609375 25.390625 \nL 58.015625 25.390625 \nL 58.015625 17.1875 \nL 47.609375 17.1875 \nL 47.609375 0 \nL 37.796875 0 \nL 37.796875 17.1875 \nL 4.890625 17.1875 \nL 4.890625 26.703125 \nz\n\" id=\"DejaVuSans-52\"/>\n       </defs>\n       <use xlink:href=\"#DejaVuSans-52\"/>\n      </g>\n     </g>\n    </g>\n    <g id=\"xtick_6\">\n     <g id=\"line2d_11\">\n      <g>\n       <use style=\"stroke:#000000;stroke-width:0.8;\" x=\"174.0125\" xlink:href=\"#m21cbbf2703\" y=\"247.078125\"/>\n      </g>\n     </g>\n     <g id=\"line2d_12\">\n      <g>\n       <use style=\"stroke:#000000;stroke-width:0.8;\" x=\"174.0125\" xlink:href=\"#m6c8e815d93\" y=\"23.878125\"/>\n      </g>\n     </g>\n     <g id=\"text_6\">\n      <!-- 5 -->\n      <g transform=\"translate(170.83125 14.798438)scale(0.1 -0.1)\">\n       <defs>\n        <path d=\"M 10.796875 72.90625 \nL 49.515625 72.90625 \nL 49.515625 64.59375 \nL 19.828125 64.59375 \nL 19.828125 46.734375 \nQ 21.96875 47.46875 24.109375 47.828125 \nQ 26.265625 48.1875 28.421875 48.1875 \nQ 40.625 48.1875 47.75 41.5 \nQ 54.890625 34.8125 54.890625 23.390625 \nQ 54.890625 11.625 47.5625 5.09375 \nQ 40.234375 -1.421875 26.90625 -1.421875 \nQ 22.3125 -1.421875 17.546875 -0.640625 \nQ 12.796875 0.140625 7.71875 1.703125 \nL 7.71875 11.625 \nQ 12.109375 9.234375 16.796875 8.0625 \nQ 21.484375 6.890625 26.703125 6.890625 \nQ 35.15625 6.890625 40.078125 11.328125 \nQ 45.015625 15.765625 45.015625 23.390625 \nQ 45.015625 31 40.078125 35.4375 \nQ 35.15625 39.890625 26.703125 39.890625 \nQ 22.75 39.890625 18.8125 39.015625 \nQ 14.890625 38.140625 10.796875 36.28125 \nz\n\" id=\"DejaVuSans-53\"/>\n       </defs>\n       <use xlink:href=\"#DejaVuSans-53\"/>\n      </g>\n     </g>\n    </g>\n    <g id=\"xtick_7\">\n     <g id=\"line2d_13\">\n      <g>\n       <use style=\"stroke:#000000;stroke-width:0.8;\" x=\"201.9125\" xlink:href=\"#m21cbbf2703\" y=\"247.078125\"/>\n      </g>\n     </g>\n     <g id=\"line2d_14\">\n      <g>\n       <use style=\"stroke:#000000;stroke-width:0.8;\" x=\"201.9125\" xlink:href=\"#m6c8e815d93\" y=\"23.878125\"/>\n      </g>\n     </g>\n     <g id=\"text_7\">\n      <!-- 6 -->\n      <g transform=\"translate(198.73125 14.798438)scale(0.1 -0.1)\">\n       <defs>\n        <path d=\"M 33.015625 40.375 \nQ 26.375 40.375 22.484375 35.828125 \nQ 18.609375 31.296875 18.609375 23.390625 \nQ 18.609375 15.53125 22.484375 10.953125 \nQ 26.375 6.390625 33.015625 6.390625 \nQ 39.65625 6.390625 43.53125 10.953125 \nQ 47.40625 15.53125 47.40625 23.390625 \nQ 47.40625 31.296875 43.53125 35.828125 \nQ 39.65625 40.375 33.015625 40.375 \nz\nM 52.59375 71.296875 \nL 52.59375 62.3125 \nQ 48.875 64.0625 45.09375 64.984375 \nQ 41.3125 65.921875 37.59375 65.921875 \nQ 27.828125 65.921875 22.671875 59.328125 \nQ 17.53125 52.734375 16.796875 39.40625 \nQ 19.671875 43.65625 24.015625 45.921875 \nQ 28.375 48.1875 33.59375 48.1875 \nQ 44.578125 48.1875 50.953125 41.515625 \nQ 57.328125 34.859375 57.328125 23.390625 \nQ 57.328125 12.15625 50.6875 5.359375 \nQ 44.046875 -1.421875 33.015625 -1.421875 \nQ 20.359375 -1.421875 13.671875 8.265625 \nQ 6.984375 17.96875 6.984375 36.375 \nQ 6.984375 53.65625 15.1875 63.9375 \nQ 23.390625 74.21875 37.203125 74.21875 \nQ 40.921875 74.21875 44.703125 73.484375 \nQ 48.484375 72.75 52.59375 71.296875 \nz\n\" id=\"DejaVuSans-54\"/>\n       </defs>\n       <use xlink:href=\"#DejaVuSans-54\"/>\n      </g>\n     </g>\n    </g>\n    <g id=\"xtick_8\">\n     <g id=\"line2d_15\">\n      <g>\n       <use style=\"stroke:#000000;stroke-width:0.8;\" x=\"229.8125\" xlink:href=\"#m21cbbf2703\" y=\"247.078125\"/>\n      </g>\n     </g>\n     <g id=\"line2d_16\">\n      <g>\n       <use style=\"stroke:#000000;stroke-width:0.8;\" x=\"229.8125\" xlink:href=\"#m6c8e815d93\" y=\"23.878125\"/>\n      </g>\n     </g>\n     <g id=\"text_8\">\n      <!-- 7 -->\n      <g transform=\"translate(226.63125 14.798438)scale(0.1 -0.1)\">\n       <defs>\n        <path d=\"M 8.203125 72.90625 \nL 55.078125 72.90625 \nL 55.078125 68.703125 \nL 28.609375 0 \nL 18.3125 0 \nL 43.21875 64.59375 \nL 8.203125 64.59375 \nz\n\" id=\"DejaVuSans-55\"/>\n       </defs>\n       <use xlink:href=\"#DejaVuSans-55\"/>\n      </g>\n     </g>\n    </g>\n   </g>\n   <g id=\"matplotlib.axis_2\">\n    <g id=\"ytick_1\">\n     <g id=\"line2d_17\">\n      <defs>\n       <path d=\"M 0 0 \nL -3.5 0 \n\" id=\"m4ef0cc1160\" style=\"stroke:#000000;stroke-width:0.8;\"/>\n      </defs>\n      <g>\n       <use style=\"stroke:#000000;stroke-width:0.8;\" x=\"20.5625\" xlink:href=\"#m4ef0cc1160\" y=\"37.828125\"/>\n      </g>\n     </g>\n     <g id=\"text_9\">\n      <!-- 0 -->\n      <g transform=\"translate(7.2 41.627344)scale(0.1 -0.1)\">\n       <use xlink:href=\"#DejaVuSans-48\"/>\n      </g>\n     </g>\n    </g>\n    <g id=\"ytick_2\">\n     <g id=\"line2d_18\">\n      <g>\n       <use style=\"stroke:#000000;stroke-width:0.8;\" x=\"20.5625\" xlink:href=\"#m4ef0cc1160\" y=\"65.728125\"/>\n      </g>\n     </g>\n     <g id=\"text_10\">\n      <!-- 1 -->\n      <g transform=\"translate(7.2 69.527344)scale(0.1 -0.1)\">\n       <use xlink:href=\"#DejaVuSans-49\"/>\n      </g>\n     </g>\n    </g>\n    <g id=\"ytick_3\">\n     <g id=\"line2d_19\">\n      <g>\n       <use style=\"stroke:#000000;stroke-width:0.8;\" x=\"20.5625\" xlink:href=\"#m4ef0cc1160\" y=\"93.628125\"/>\n      </g>\n     </g>\n     <g id=\"text_11\">\n      <!-- 2 -->\n      <g transform=\"translate(7.2 97.427344)scale(0.1 -0.1)\">\n       <use xlink:href=\"#DejaVuSans-50\"/>\n      </g>\n     </g>\n    </g>\n    <g id=\"ytick_4\">\n     <g id=\"line2d_20\">\n      <g>\n       <use style=\"stroke:#000000;stroke-width:0.8;\" x=\"20.5625\" xlink:href=\"#m4ef0cc1160\" y=\"121.528125\"/>\n      </g>\n     </g>\n     <g id=\"text_12\">\n      <!-- 3 -->\n      <g transform=\"translate(7.2 125.327344)scale(0.1 -0.1)\">\n       <use xlink:href=\"#DejaVuSans-51\"/>\n      </g>\n     </g>\n    </g>\n    <g id=\"ytick_5\">\n     <g id=\"line2d_21\">\n      <g>\n       <use style=\"stroke:#000000;stroke-width:0.8;\" x=\"20.5625\" xlink:href=\"#m4ef0cc1160\" y=\"149.428125\"/>\n      </g>\n     </g>\n     <g id=\"text_13\">\n      <!-- 4 -->\n      <g transform=\"translate(7.2 153.227344)scale(0.1 -0.1)\">\n       <use xlink:href=\"#DejaVuSans-52\"/>\n      </g>\n     </g>\n    </g>\n    <g id=\"ytick_6\">\n     <g id=\"line2d_22\">\n      <g>\n       <use style=\"stroke:#000000;stroke-width:0.8;\" x=\"20.5625\" xlink:href=\"#m4ef0cc1160\" y=\"177.328125\"/>\n      </g>\n     </g>\n     <g id=\"text_14\">\n      <!-- 5 -->\n      <g transform=\"translate(7.2 181.127344)scale(0.1 -0.1)\">\n       <use xlink:href=\"#DejaVuSans-53\"/>\n      </g>\n     </g>\n    </g>\n    <g id=\"ytick_7\">\n     <g id=\"line2d_23\">\n      <g>\n       <use style=\"stroke:#000000;stroke-width:0.8;\" x=\"20.5625\" xlink:href=\"#m4ef0cc1160\" y=\"205.228125\"/>\n      </g>\n     </g>\n     <g id=\"text_15\">\n      <!-- 6 -->\n      <g transform=\"translate(7.2 209.027344)scale(0.1 -0.1)\">\n       <use xlink:href=\"#DejaVuSans-54\"/>\n      </g>\n     </g>\n    </g>\n    <g id=\"ytick_8\">\n     <g id=\"line2d_24\">\n      <g>\n       <use style=\"stroke:#000000;stroke-width:0.8;\" x=\"20.5625\" xlink:href=\"#m4ef0cc1160\" y=\"233.128125\"/>\n      </g>\n     </g>\n     <g id=\"text_16\">\n      <!-- 7 -->\n      <g transform=\"translate(7.2 236.927344)scale(0.1 -0.1)\">\n       <use xlink:href=\"#DejaVuSans-55\"/>\n      </g>\n     </g>\n    </g>\n   </g>\n   <g id=\"patch_3\">\n    <path d=\"M 20.5625 247.078125 \nL 20.5625 23.878125 \n\" style=\"fill:none;stroke:#000000;stroke-linecap:square;stroke-linejoin:miter;stroke-width:0.8;\"/>\n   </g>\n   <g id=\"patch_4\">\n    <path d=\"M 243.7625 247.078125 \nL 243.7625 23.878125 \n\" style=\"fill:none;stroke:#000000;stroke-linecap:square;stroke-linejoin:miter;stroke-width:0.8;\"/>\n   </g>\n   <g id=\"patch_5\">\n    <path d=\"M 20.5625 247.078125 \nL 243.7625 247.078125 \n\" style=\"fill:none;stroke:#000000;stroke-linecap:square;stroke-linejoin:miter;stroke-width:0.8;\"/>\n   </g>\n   <g id=\"patch_6\">\n    <path d=\"M 20.5625 23.878125 \nL 243.7625 23.878125 \n\" style=\"fill:none;stroke:#000000;stroke-linecap:square;stroke-linejoin:miter;stroke-width:0.8;\"/>\n   </g>\n  </g>\n </g>\n <defs>\n  <clipPath id=\"pab7e319dd4\">\n   <rect height=\"223.2\" width=\"223.2\" x=\"20.5625\" y=\"23.878125\"/>\n  </clipPath>\n </defs>\n</svg>\n",
      "image/png": "[encoded data removed]"
     },
     "metadata": {
      "needs_background": "light"
     }
    }
   ],
   "source": [
    "plt.gray() \n",
    " \n",
    "plt.matshow(digits.images[100])\n",
    " \n",
    "plt.show()"
   ]
  },
  {
   "cell_type": "markdown",
   "metadata": {},
   "source": [
    "Is it a 4? Let's print out the target label at index 100. "
   ]
  },
  {
   "cell_type": "code",
   "execution_count": 7,
   "metadata": {
    "tags": []
   },
   "outputs": [
    {
     "output_type": "stream",
     "name": "stdout",
     "text": "4\n"
    }
   ],
   "source": [
    "print(digits.target[100])"
   ]
  },
  {
   "cell_type": "markdown",
   "metadata": {},
   "source": [
    "### K-Means Clustering"
   ]
  },
  {
   "cell_type": "markdown",
   "metadata": {},
   "source": [
    "As there is 10 digits (0-9) then there will be 10 clusters i.e k=10."
   ]
  },
  {
   "cell_type": "code",
   "execution_count": 8,
   "metadata": {},
   "outputs": [
    {
     "output_type": "execute_result",
     "data": {
      "text/plain": "KMeans(n_clusters=10, random_state=42)"
     },
     "metadata": {},
     "execution_count": 8
    }
   ],
   "source": [
    "from sklearn.cluster import KMeans\n",
    "\n",
    "model = KMeans(n_clusters=10, random_state=42)\n",
    "model.fit(digits.data)"
   ]
  },
  {
   "cell_type": "markdown",
   "metadata": {},
   "source": [
    "### Visualising after K-Means"
   ]
  },
  {
   "cell_type": "code",
   "execution_count": 12,
   "metadata": {},
   "outputs": [
    {
     "output_type": "display_data",
     "data": {
      "text/plain": "<Figure size 576x216 with 10 Axes>",
      "image/svg+xml": "<?xml version=\"1.0\" encoding=\"utf-8\" standalone=\"no\"?>\n<!DOCTYPE svg PUBLIC \"-//W3C//DTD SVG 1.1//EN\"\n  \"http://www.w3.org/Graphics/SVG/1.1/DTD/svg11.dtd\">\n<!-- Created with matplotlib (https://matplotlib.org/) -->\n<svg height=\"215.758125pt\" version=\"1.1\" viewBox=\"0 0 471.324255 215.758125\" width=\"471.324255pt\" xmlns=\"http://www.w3.org/2000/svg\" xmlns:xlink=\"http://www.w3.org/1999/xlink\">\n <metadata>\n  <rdf:RDF xmlns:cc=\"http://creativecommons.org/ns#\" xmlns:dc=\"http://purl.org/dc/elements/1.1/\" xmlns:rdf=\"http://www.w3.org/1999/02/22-rdf-syntax-ns#\">\n   <cc:Work>\n    <dc:type rdf:resource=\"http://purl.org/dc/dcmitype/StillImage\"/>\n    <dc:date>2021-04-30T07:39:12.007680</dc:date>\n    <dc:format>image/svg+xml</dc:format>\n    <dc:creator>\n     <cc:Agent>\n      <dc:title>Matplotlib v3.3.4, https://matplotlib.org/</dc:title>\n     </cc:Agent>\n    </dc:creator>\n   </cc:Work>\n  </rdf:RDF>\n </metadata>\n <defs>\n  <style type=\"text/css\">*{stroke-linecap:butt;stroke-linejoin:round;}</style>\n </defs>\n <g id=\"figure_1\">\n  <g id=\"patch_1\">\n   <path d=\"M 0 215.758125 \nL 471.324255 215.758125 \nL 471.324255 0 \nL 0 0 \nz\n\" style=\"fill:none;\"/>\n  </g>\n  <g id=\"axes_1\">\n   <g id=\"patch_2\">\n    <path d=\"M 20.5625 102.927273 \nL 94.689773 102.927273 \nL 94.689773 28.8 \nL 20.5625 28.8 \nz\n\" style=\"fill:#ffffff;\"/>\n   </g>\n   <g clip-path=\"url(#pb8b7c1ea45)\">\n    <image height=\"75\" id=\"image11bb785ed3\" transform=\"scale(1 -1)translate(0 -75)\" width=\"75\" x=\"20.5625\" xlink:href=\"data:image/png;base64,\niVBORw0KGgoAAAANSUhEUgAAAEsAAABLCAYAAAA4TnrqAAAByUlEQVR4nO3csarBYRiAcf+DBZHdgFnZ3YPdIovrMXIjRptSMthcgUUsmKQ4l/C+T506y/Ob396vnr7hSyi+3++39EfW63U4M5lMwplKpZI6b7FYhDPT6TS1q1qthjM/qU0qlUrGQowFGAswFmAswFiAsYAi8yh9PB6pZb1eL5wZjUbhzOv1Sp13OBzCme12m9o1GAzCGW8WYCzAWICxAGMBxgKMBRgLMBaQ+vz2eDymln0+n3BmuVyGM+VyOXXeeDwOZ3zB/xNjAcYCjAUYCzAWYCzAWEDqUXo6nVLLut1uONNsNsOZVquVOm84HIYzl8sltSvDmwUYCzAWYCzAWICxAGMBxgKMBaRe8LVaLbXsdruFM9frNZyp1+up897vdzjTaDRSuzK8WYCxAGMBxgKMBRgLMBZgLCD1KO10Oqll5/M5nNntduFM9ld9+/0+nJnP56ldGd4swFiAsQBjAcYCjAUYCzAWkPoJ3f1+Ty3LfIn1+XyGM/1+P3VeURThzGazSe1qt9vhjDcLMBZgLMBYgLEAYwHGAowFGAtIfayc/fbwarUKZ2azWTiT/We2zM/xMi/zLG8WYCzAWICxAGMBxgKMBRgL+AWi2FK4KSYF6AAAAABJRU5ErkJggg==\" y=\"-27.927273\"/>\n   </g>\n   <g id=\"matplotlib.axis_1\">\n    <g id=\"xtick_1\">\n     <g id=\"line2d_1\">\n      <defs>\n       <path d=\"M 0 0 \nL 0 3.5 \n\" id=\"mef50ad0ded\" style=\"stroke:#000000;stroke-width:0.8;\"/>\n      </defs>\n      <g>\n       <use style=\"stroke:#000000;stroke-width:0.8;\" x=\"25.195455\" xlink:href=\"#mef50ad0ded\" y=\"102.927273\"/>\n      </g>\n     </g>\n     <g id=\"text_1\">\n      <!-- 0 -->\n      <g transform=\"translate(22.014205 117.52571)scale(0.1 -0.1)\">\n       <defs>\n        <path d=\"M 31.78125 66.40625 \nQ 24.171875 66.40625 20.328125 58.90625 \nQ 16.5 51.421875 16.5 36.375 \nQ 16.5 21.390625 20.328125 13.890625 \nQ 24.171875 6.390625 31.78125 6.390625 \nQ 39.453125 6.390625 43.28125 13.890625 \nQ 47.125 21.390625 47.125 36.375 \nQ 47.125 51.421875 43.28125 58.90625 \nQ 39.453125 66.40625 31.78125 66.40625 \nz\nM 31.78125 74.21875 \nQ 44.046875 74.21875 50.515625 64.515625 \nQ 56.984375 54.828125 56.984375 36.375 \nQ 56.984375 17.96875 50.515625 8.265625 \nQ 44.046875 -1.421875 31.78125 -1.421875 \nQ 19.53125 -1.421875 13.0625 8.265625 \nQ 6.59375 17.96875 6.59375 36.375 \nQ 6.59375 54.828125 13.0625 64.515625 \nQ 19.53125 74.21875 31.78125 74.21875 \nz\n\" id=\"DejaVuSans-48\"/>\n       </defs>\n       <use xlink:href=\"#DejaVuSans-48\"/>\n      </g>\n     </g>\n    </g>\n    <g id=\"xtick_2\">\n     <g id=\"line2d_2\">\n      <g>\n       <use style=\"stroke:#000000;stroke-width:0.8;\" x=\"71.525\" xlink:href=\"#mef50ad0ded\" y=\"102.927273\"/>\n      </g>\n     </g>\n     <g id=\"text_2\">\n      <!-- 5 -->\n      <g transform=\"translate(68.34375 117.52571)scale(0.1 -0.1)\">\n       <defs>\n        <path d=\"M 10.796875 72.90625 \nL 49.515625 72.90625 \nL 49.515625 64.59375 \nL 19.828125 64.59375 \nL 19.828125 46.734375 \nQ 21.96875 47.46875 24.109375 47.828125 \nQ 26.265625 48.1875 28.421875 48.1875 \nQ 40.625 48.1875 47.75 41.5 \nQ 54.890625 34.8125 54.890625 23.390625 \nQ 54.890625 11.625 47.5625 5.09375 \nQ 40.234375 -1.421875 26.90625 -1.421875 \nQ 22.3125 -1.421875 17.546875 -0.640625 \nQ 12.796875 0.140625 7.71875 1.703125 \nL 7.71875 11.625 \nQ 12.109375 9.234375 16.796875 8.0625 \nQ 21.484375 6.890625 26.703125 6.890625 \nQ 35.15625 6.890625 40.078125 11.328125 \nQ 45.015625 15.765625 45.015625 23.390625 \nQ 45.015625 31 40.078125 35.4375 \nQ 35.15625 39.890625 26.703125 39.890625 \nQ 22.75 39.890625 18.8125 39.015625 \nQ 14.890625 38.140625 10.796875 36.28125 \nz\n\" id=\"DejaVuSans-53\"/>\n       </defs>\n       <use xlink:href=\"#DejaVuSans-53\"/>\n      </g>\n     </g>\n    </g>\n   </g>\n   <g id=\"matplotlib.axis_2\">\n    <g id=\"ytick_1\">\n     <g id=\"line2d_3\">\n      <defs>\n       <path d=\"M 0 0 \nL -3.5 0 \n\" id=\"m3d860cad69\" style=\"stroke:#000000;stroke-width:0.8;\"/>\n      </defs>\n      <g>\n       <use style=\"stroke:#000000;stroke-width:0.8;\" x=\"20.5625\" xlink:href=\"#m3d860cad69\" y=\"33.432955\"/>\n      </g>\n     </g>\n     <g id=\"text_3\">\n      <!-- 0 -->\n      <g transform=\"translate(7.2 37.232173)scale(0.1 -0.1)\">\n       <use xlink:href=\"#DejaVuSans-48\"/>\n      </g>\n     </g>\n    </g>\n    <g id=\"ytick_2\">\n     <g id=\"line2d_4\">\n      <g>\n       <use style=\"stroke:#000000;stroke-width:0.8;\" x=\"20.5625\" xlink:href=\"#m3d860cad69\" y=\"79.7625\"/>\n      </g>\n     </g>\n     <g id=\"text_4\">\n      <!-- 5 -->\n      <g transform=\"translate(7.2 83.561719)scale(0.1 -0.1)\">\n       <use xlink:href=\"#DejaVuSans-53\"/>\n      </g>\n     </g>\n    </g>\n   </g>\n   <g id=\"patch_3\">\n    <path d=\"M 20.5625 102.927273 \nL 20.5625 28.8 \n\" style=\"fill:none;stroke:#000000;stroke-linecap:square;stroke-linejoin:miter;stroke-width:0.8;\"/>\n   </g>\n   <g id=\"patch_4\">\n    <path d=\"M 94.689773 102.927273 \nL 94.689773 28.8 \n\" style=\"fill:none;stroke:#000000;stroke-linecap:square;stroke-linejoin:miter;stroke-width:0.8;\"/>\n   </g>\n   <g id=\"patch_5\">\n    <path d=\"M 20.5625 102.927273 \nL 94.689773 102.927273 \n\" style=\"fill:none;stroke:#000000;stroke-linecap:square;stroke-linejoin:miter;stroke-width:0.8;\"/>\n   </g>\n   <g id=\"patch_6\">\n    <path d=\"M 20.5625 28.8 \nL 94.689773 28.8 \n\" style=\"fill:none;stroke:#000000;stroke-linecap:square;stroke-linejoin:miter;stroke-width:0.8;\"/>\n   </g>\n  </g>\n  <g id=\"axes_2\">\n   <g id=\"patch_7\">\n    <path d=\"M 112.921121 102.927273 \nL 187.048393 102.927273 \nL 187.048393 28.8 \nL 112.921121 28.8 \nz\n\" style=\"fill:#ffffff;\"/>\n   </g>\n   <g clip-path=\"url(#p9c135d6d74)\">\n    <image height=\"75\" id=\"imagebada13e334\" transform=\"scale(1 -1)translate(0 -75)\" width=\"75\" x=\"112.921121\" xlink:href=\"data:image/png;base64,\niVBORw0KGgoAAAANSUhEUgAAAEsAAABLCAYAAAA4TnrqAAAB2UlEQVR4nO3Yscq5YRzG8fvVG4VQFpMsLA7GWVgdgEUxmJTiMEx2J2BVFialmFiE4nkP4Xdd9a//8v3MV/dd357h7vnJsixLgc/nE01SSinN5/NwMx6Pw83tdpPu6/V64WY6nUpndTqdcJOTTkJKiVgWYhmIZSCWgVgGYhmIZfhVRo/HQzrsdDqFm9lsFm6q1ap033A4DDebzUY6i0fpP0YsA7EMxDIQy0AsA7EMxDIQyyC94IvFonRYv98PN4VCIdzk83npvkajEW5er5d0Vi4Xfzd8WQZiGYhlIJaBWAZiGYhlIJZBepR+v1/psPv9Hm622224eT6f0n3Kg7PdbktnKfiyDMQyEMtALAOxDMQyEMtALAOxDNIL/ng8SoeNRqNwcz6fw83lcpHuq9fr4abVaklnKfiyDMQyEMtALAOxDMQyEMtALIP0KD0cDtJh+/0+3CwWi3Cz2+2k+9brdbgplUrSWQq+LAOxDMQyEMtALAOxDMQyEMsgPUqbzaZ02PV6DTer1SrcvN9v6b5arRZuyuWydJaCL8tALAOxDMQyEMtALAOxDMQyEMsgveC73a502GQyCTfL5TLcVCoV6b7BYBBu+K38nxDLQCwDsQzEMhDLQCwDsQx/GydSpiM6wvAAAAAASUVORK5CYII=\" y=\"-27.927273\"/>\n   </g>\n   <g id=\"matplotlib.axis_3\">\n    <g id=\"xtick_3\">\n     <g id=\"line2d_5\">\n      <g>\n       <use style=\"stroke:#000000;stroke-width:0.8;\" x=\"117.554075\" xlink:href=\"#mef50ad0ded\" y=\"102.927273\"/>\n      </g>\n     </g>\n     <g id=\"text_5\">\n      <!-- 0 -->\n      <g transform=\"translate(114.372825 117.52571)scale(0.1 -0.1)\">\n       <use xlink:href=\"#DejaVuSans-48\"/>\n      </g>\n     </g>\n    </g>\n    <g id=\"xtick_4\">\n     <g id=\"line2d_6\">\n      <g>\n       <use style=\"stroke:#000000;stroke-width:0.8;\" x=\"163.883621\" xlink:href=\"#mef50ad0ded\" y=\"102.927273\"/>\n      </g>\n     </g>\n     <g id=\"text_6\">\n      <!-- 5 -->\n      <g transform=\"translate(160.702371 117.52571)scale(0.1 -0.1)\">\n       <use xlink:href=\"#DejaVuSans-53\"/>\n      </g>\n     </g>\n    </g>\n   </g>\n   <g id=\"matplotlib.axis_4\">\n    <g id=\"ytick_3\">\n     <g id=\"line2d_7\">\n      <g>\n       <use style=\"stroke:#000000;stroke-width:0.8;\" x=\"112.921121\" xlink:href=\"#m3d860cad69\" y=\"33.432955\"/>\n      </g>\n     </g>\n     <g id=\"text_7\">\n      <!-- 0 -->\n      <g transform=\"translate(99.558621 37.232173)scale(0.1 -0.1)\">\n       <use xlink:href=\"#DejaVuSans-48\"/>\n      </g>\n     </g>\n    </g>\n    <g id=\"ytick_4\">\n     <g id=\"line2d_8\">\n      <g>\n       <use style=\"stroke:#000000;stroke-width:0.8;\" x=\"112.921121\" xlink:href=\"#m3d860cad69\" y=\"79.7625\"/>\n      </g>\n     </g>\n     <g id=\"text_8\">\n      <!-- 5 -->\n      <g transform=\"translate(99.558621 83.561719)scale(0.1 -0.1)\">\n       <use xlink:href=\"#DejaVuSans-53\"/>\n      </g>\n     </g>\n    </g>\n   </g>\n   <g id=\"patch_8\">\n    <path d=\"M 112.921121 102.927273 \nL 112.921121 28.8 \n\" style=\"fill:none;stroke:#000000;stroke-linecap:square;stroke-linejoin:miter;stroke-width:0.8;\"/>\n   </g>\n   <g id=\"patch_9\">\n    <path d=\"M 187.048393 102.927273 \nL 187.048393 28.8 \n\" style=\"fill:none;stroke:#000000;stroke-linecap:square;stroke-linejoin:miter;stroke-width:0.8;\"/>\n   </g>\n   <g id=\"patch_10\">\n    <path d=\"M 112.921121 102.927273 \nL 187.048393 102.927273 \n\" style=\"fill:none;stroke:#000000;stroke-linecap:square;stroke-linejoin:miter;stroke-width:0.8;\"/>\n   </g>\n   <g id=\"patch_11\">\n    <path d=\"M 112.921121 28.8 \nL 187.048393 28.8 \n\" style=\"fill:none;stroke:#000000;stroke-linecap:square;stroke-linejoin:miter;stroke-width:0.8;\"/>\n   </g>\n  </g>\n  <g id=\"axes_3\">\n   <g id=\"patch_12\">\n    <path d=\"M 205.279741 102.927273 \nL 279.407014 102.927273 \nL 279.407014 28.8 \nL 205.279741 28.8 \nz\n\" style=\"fill:#ffffff;\"/>\n   </g>\n   <g clip-path=\"url(#p7ea294fb88)\">\n    <image height=\"75\" id=\"image7d57265490\" transform=\"scale(1 -1)translate(0 -75)\" width=\"75\" x=\"205.279741\" xlink:href=\"data:image/png;base64,\niVBORw0KGgoAAAANSUhEUgAAAEsAAABLCAYAAAA4TnrqAAABxUlEQVR4nO3cscqBYRiH8dcXmUhJiEUWu1U5ASdgsltsTsFRMDsBslodihQDE+U7hPu+ynj95n/PU1fP8GZQ+n6/3yLweDyiSVEURTGfz8PN6XQKN41GI3Vfq9UKN5PJJHXWcrkMN3+pk1QUhbEQYwHGAowFGAswFmAsoJwZvd/v1GGv1yvc1Gq1cNPv91P3Zc5qt9upswaDQbjxZQHGAowFGAswFmAswFiAsQBjAaXMz8qfzyd12PF4DDebzSbcTKfT1H2LxSLc9Hq91Fn1ej3c+LIAYwHGAowFGAswFmAswFhA6mflcjk1K8bjcbjpdDrh5nK5pO5brVbhJvOxmeXLAowFGAswFmAswFiAsQBjAcYCUp/m9/s9ddj1eg03ma/83W6Xuu92u4WbbrebOivDlwUYCzAWYCzAWICxAGMBxgJSH6Xn8zl1WGY3HA7DTbVaTd2X/Vj+FV8WYCzAWICxAGMBxgKMBRgLSH2UPp/P1GHb7TbcNJvNcJP9X4dKpZLa/YovCzAWYCzAWICxAGMBxgKMBRgLSH3Bz2az1GH7/T7cHA6HcLNer1P3jUaj1O5XfFmAsQBjAcYCjAUYCzAWYCzgH8joRLcG3dvjAAAAAElFTkSuQmCC\" y=\"-27.927273\"/>\n   </g>\n   <g id=\"matplotlib.axis_5\">\n    <g id=\"xtick_5\">\n     <g id=\"line2d_9\">\n      <g>\n       <use style=\"stroke:#000000;stroke-width:0.8;\" x=\"209.912696\" xlink:href=\"#mef50ad0ded\" y=\"102.927273\"/>\n      </g>\n     </g>\n     <g id=\"text_9\">\n      <!-- 0 -->\n      <g transform=\"translate(206.731446 117.52571)scale(0.1 -0.1)\">\n       <use xlink:href=\"#DejaVuSans-48\"/>\n      </g>\n     </g>\n    </g>\n    <g id=\"xtick_6\">\n     <g id=\"line2d_10\">\n      <g>\n       <use style=\"stroke:#000000;stroke-width:0.8;\" x=\"256.242241\" xlink:href=\"#mef50ad0ded\" y=\"102.927273\"/>\n      </g>\n     </g>\n     <g id=\"text_10\">\n      <!-- 5 -->\n      <g transform=\"translate(253.060991 117.52571)scale(0.1 -0.1)\">\n       <use xlink:href=\"#DejaVuSans-53\"/>\n      </g>\n     </g>\n    </g>\n   </g>\n   <g id=\"matplotlib.axis_6\">\n    <g id=\"ytick_5\">\n     <g id=\"line2d_11\">\n      <g>\n       <use style=\"stroke:#000000;stroke-width:0.8;\" x=\"205.279741\" xlink:href=\"#m3d860cad69\" y=\"33.432955\"/>\n      </g>\n     </g>\n     <g id=\"text_11\">\n      <!-- 0 -->\n      <g transform=\"translate(191.917241 37.232173)scale(0.1 -0.1)\">\n       <use xlink:href=\"#DejaVuSans-48\"/>\n      </g>\n     </g>\n    </g>\n    <g id=\"ytick_6\">\n     <g id=\"line2d_12\">\n      <g>\n       <use style=\"stroke:#000000;stroke-width:0.8;\" x=\"205.279741\" xlink:href=\"#m3d860cad69\" y=\"79.7625\"/>\n      </g>\n     </g>\n     <g id=\"text_12\">\n      <!-- 5 -->\n      <g transform=\"translate(191.917241 83.561719)scale(0.1 -0.1)\">\n       <use xlink:href=\"#DejaVuSans-53\"/>\n      </g>\n     </g>\n    </g>\n   </g>\n   <g id=\"patch_13\">\n    <path d=\"M 205.279741 102.927273 \nL 205.279741 28.8 \n\" style=\"fill:none;stroke:#000000;stroke-linecap:square;stroke-linejoin:miter;stroke-width:0.8;\"/>\n   </g>\n   <g id=\"patch_14\">\n    <path d=\"M 279.407014 102.927273 \nL 279.407014 28.8 \n\" style=\"fill:none;stroke:#000000;stroke-linecap:square;stroke-linejoin:miter;stroke-width:0.8;\"/>\n   </g>\n   <g id=\"patch_15\">\n    <path d=\"M 205.279741 102.927273 \nL 279.407014 102.927273 \n\" style=\"fill:none;stroke:#000000;stroke-linecap:square;stroke-linejoin:miter;stroke-width:0.8;\"/>\n   </g>\n   <g id=\"patch_16\">\n    <path d=\"M 205.279741 28.8 \nL 279.407014 28.8 \n\" style=\"fill:none;stroke:#000000;stroke-linecap:square;stroke-linejoin:miter;stroke-width:0.8;\"/>\n   </g>\n  </g>\n  <g id=\"axes_4\">\n   <g id=\"patch_17\">\n    <path d=\"M 297.638362 102.927273 \nL 371.765635 102.927273 \nL 371.765635 28.8 \nL 297.638362 28.8 \nz\n\" style=\"fill:#ffffff;\"/>\n   </g>\n   <g clip-path=\"url(#pb4743705df)\">\n    <image height=\"75\" id=\"image19b3e964e6\" transform=\"scale(1 -1)translate(0 -75)\" width=\"75\" x=\"297.638362\" xlink:href=\"data:image/png;base64,\niVBORw0KGgoAAAANSUhEUgAAAEsAAABLCAYAAAA4TnrqAAABwElEQVR4nO3cMa6pURRA4fPL7VREVBQSE2BKpmEARqAwA2MwAjMQiUpQ0CCISPxvCHuvRF61vnpnH1n3FCdyo6rrui7/0Xq9Dmcmk0lqV7/fD2cWi8XPdjVSm1RKMRZiLMBYgLEAYwHGAowF/P1y2efzCWfu93s4czgcUuc1m81wpqqq1K4MbxZgLMBYgLEAYwHGAowFGAswFpB6wT8ej9Sy8/kczjQa8d+n3W6nzrvdbuFM5pWf5c0CjAUYCzAWYCzAWICxAGMBqUfp5XJJLVsul+HM9XoNZ77fb+q8zOfKPqhbrVY4480CjAUYCzAWYCzAWICxAGMBxgJSL/jdbpdaNp/Pw5lOpxPOvF6v1HmZF/zpdErt6vV64Yw3CzAWYCzAWICxAGMBxgKMBaQepcPhMLVsNBqFM9vtNpwZDAap897vdziz2WxSuzKf3ZsFGAswFmAswFiAsQBjAcYCUo/SzG8elFLKdDr9ycxqtUqdl/nn2v1+n9r1fD7DGW8WYCzAWICxAGMBxgKMBRgLMBaQesFnf0hiPB6HM7PZLJw5Ho+p8zJfUXe73dSuDG8WYCzAWICxAGMBxgKMBRgL+AcxI1Z+lcLmyQAAAABJRU5ErkJggg==\" y=\"-27.927273\"/>\n   </g>\n   <g id=\"matplotlib.axis_7\">\n    <g id=\"xtick_7\">\n     <g id=\"line2d_13\">\n      <g>\n       <use style=\"stroke:#000000;stroke-width:0.8;\" x=\"302.271317\" xlink:href=\"#mef50ad0ded\" y=\"102.927273\"/>\n      </g>\n     </g>\n     <g id=\"text_13\">\n      <!-- 0 -->\n      <g transform=\"translate(299.090067 117.52571)scale(0.1 -0.1)\">\n       <use xlink:href=\"#DejaVuSans-48\"/>\n      </g>\n     </g>\n    </g>\n    <g id=\"xtick_8\">\n     <g id=\"line2d_14\">\n      <g>\n       <use style=\"stroke:#000000;stroke-width:0.8;\" x=\"348.600862\" xlink:href=\"#mef50ad0ded\" y=\"102.927273\"/>\n      </g>\n     </g>\n     <g id=\"text_14\">\n      <!-- 5 -->\n      <g transform=\"translate(345.419612 117.52571)scale(0.1 -0.1)\">\n       <use xlink:href=\"#DejaVuSans-53\"/>\n      </g>\n     </g>\n    </g>\n   </g>\n   <g id=\"matplotlib.axis_8\">\n    <g id=\"ytick_7\">\n     <g id=\"line2d_15\">\n      <g>\n       <use style=\"stroke:#000000;stroke-width:0.8;\" x=\"297.638362\" xlink:href=\"#m3d860cad69\" y=\"33.432955\"/>\n      </g>\n     </g>\n     <g id=\"text_15\">\n      <!-- 0 -->\n      <g transform=\"translate(284.275862 37.232173)scale(0.1 -0.1)\">\n       <use xlink:href=\"#DejaVuSans-48\"/>\n      </g>\n     </g>\n    </g>\n    <g id=\"ytick_8\">\n     <g id=\"line2d_16\">\n      <g>\n       <use style=\"stroke:#000000;stroke-width:0.8;\" x=\"297.638362\" xlink:href=\"#m3d860cad69\" y=\"79.7625\"/>\n      </g>\n     </g>\n     <g id=\"text_16\">\n      <!-- 5 -->\n      <g transform=\"translate(284.275862 83.561719)scale(0.1 -0.1)\">\n       <use xlink:href=\"#DejaVuSans-53\"/>\n      </g>\n     </g>\n    </g>\n   </g>\n   <g id=\"patch_18\">\n    <path d=\"M 297.638362 102.927273 \nL 297.638362 28.8 \n\" style=\"fill:none;stroke:#000000;stroke-linecap:square;stroke-linejoin:miter;stroke-width:0.8;\"/>\n   </g>\n   <g id=\"patch_19\">\n    <path d=\"M 371.765635 102.927273 \nL 371.765635 28.8 \n\" style=\"fill:none;stroke:#000000;stroke-linecap:square;stroke-linejoin:miter;stroke-width:0.8;\"/>\n   </g>\n   <g id=\"patch_20\">\n    <path d=\"M 297.638362 102.927273 \nL 371.765635 102.927273 \n\" style=\"fill:none;stroke:#000000;stroke-linecap:square;stroke-linejoin:miter;stroke-width:0.8;\"/>\n   </g>\n   <g id=\"patch_21\">\n    <path d=\"M 297.638362 28.8 \nL 371.765635 28.8 \n\" style=\"fill:none;stroke:#000000;stroke-linecap:square;stroke-linejoin:miter;stroke-width:0.8;\"/>\n   </g>\n  </g>\n  <g id=\"axes_5\">\n   <g id=\"patch_22\">\n    <path d=\"M 389.996983 102.927273 \nL 464.124255 102.927273 \nL 464.124255 28.8 \nL 389.996983 28.8 \nz\n\" style=\"fill:#ffffff;\"/>\n   </g>\n   <g clip-path=\"url(#p862c7c90e0)\">\n    <image height=\"75\" id=\"image8c1c5a22bd\" transform=\"scale(1 -1)translate(0 -75)\" width=\"75\" x=\"389.996983\" xlink:href=\"data:image/png;base64,\niVBORw0KGgoAAAANSUhEUgAAAEsAAABLCAYAAAA4TnrqAAAByElEQVR4nO3cMa5xURhG4XN+f0IhEiFCIZiCSq9RqIRGqTYDnU4lemPQGoqoNRSmwB3C961EuZ76zd7Jyi7Ovbm55ff7/RY/8nw+w81mswk31+s1dd9wOAw3p9MpddZ8Pg83/1InqSgKYyHGAowFGAswFmAswFhAmfko/Xw+qcOWy2W4ud1u4Wa326XuO5/P4aZWq6XOulwu4caXBRgLMBZgLMBYgLEAYwHGAowF/M+MHo9H6rDMr4On02m4yf7E0Gq1frIpiqKoVqvhxpcFGAswFmAswFiAsQBjAcYCfvpRmvmzifv9Hm6Ox2PqvtFoFG62223qrEqlEm58WYCxAGMBxgKMBRgLMBZgLMBYQOoLvtPppA5rNpvhZrFYhJvZbJa6L/MFPxgMUmdl+LIAYwHGAowFGAswFmAswFhA6qO01+ulDmu32+Hm9XqFm/F4nLqv0WiEm7IsU2dl+LIAYwHGAowFGAswFmAswFhA6qO0Xq+nDluv1+Fmv9+Hm8lk8rP7Mh+uWb4swFiAsQBjAcYCjAUYCzAWYCwg9U8wst7vd7hZrVbhpt/vp+47HA7hptvtps7K8GUBxgKMBRgLMBZgLMBYgLGAP9jSR7Q4uj3jAAAAAElFTkSuQmCC\" y=\"-27.927273\"/>\n   </g>\n   <g id=\"matplotlib.axis_9\">\n    <g id=\"xtick_9\">\n     <g id=\"line2d_17\">\n      <g>\n       <use style=\"stroke:#000000;stroke-width:0.8;\" x=\"394.629937\" xlink:href=\"#mef50ad0ded\" y=\"102.927273\"/>\n      </g>\n     </g>\n     <g id=\"text_17\">\n      <!-- 0 -->\n      <g transform=\"translate(391.448687 117.52571)scale(0.1 -0.1)\">\n       <use xlink:href=\"#DejaVuSans-48\"/>\n      </g>\n     </g>\n    </g>\n    <g id=\"xtick_10\">\n     <g id=\"line2d_18\">\n      <g>\n       <use style=\"stroke:#000000;stroke-width:0.8;\" x=\"440.959483\" xlink:href=\"#mef50ad0ded\" y=\"102.927273\"/>\n      </g>\n     </g>\n     <g id=\"text_18\">\n      <!-- 5 -->\n      <g transform=\"translate(437.778233 117.52571)scale(0.1 -0.1)\">\n       <use xlink:href=\"#DejaVuSans-53\"/>\n      </g>\n     </g>\n    </g>\n   </g>\n   <g id=\"matplotlib.axis_10\">\n    <g id=\"ytick_9\">\n     <g id=\"line2d_19\">\n      <g>\n       <use style=\"stroke:#000000;stroke-width:0.8;\" x=\"389.996983\" xlink:href=\"#m3d860cad69\" y=\"33.432955\"/>\n      </g>\n     </g>\n     <g id=\"text_19\">\n      <!-- 0 -->\n      <g transform=\"translate(376.634483 37.232173)scale(0.1 -0.1)\">\n       <use xlink:href=\"#DejaVuSans-48\"/>\n      </g>\n     </g>\n    </g>\n    <g id=\"ytick_10\">\n     <g id=\"line2d_20\">\n      <g>\n       <use style=\"stroke:#000000;stroke-width:0.8;\" x=\"389.996983\" xlink:href=\"#m3d860cad69\" y=\"79.7625\"/>\n      </g>\n     </g>\n     <g id=\"text_20\">\n      <!-- 5 -->\n      <g transform=\"translate(376.634483 83.561719)scale(0.1 -0.1)\">\n       <use xlink:href=\"#DejaVuSans-53\"/>\n      </g>\n     </g>\n    </g>\n   </g>\n   <g id=\"patch_23\">\n    <path d=\"M 389.996983 102.927273 \nL 389.996983 28.8 \n\" style=\"fill:none;stroke:#000000;stroke-linecap:square;stroke-linejoin:miter;stroke-width:0.8;\"/>\n   </g>\n   <g id=\"patch_24\">\n    <path d=\"M 464.124255 102.927273 \nL 464.124255 28.8 \n\" style=\"fill:none;stroke:#000000;stroke-linecap:square;stroke-linejoin:miter;stroke-width:0.8;\"/>\n   </g>\n   <g id=\"patch_25\">\n    <path d=\"M 389.996983 102.927273 \nL 464.124255 102.927273 \n\" style=\"fill:none;stroke:#000000;stroke-linecap:square;stroke-linejoin:miter;stroke-width:0.8;\"/>\n   </g>\n   <g id=\"patch_26\">\n    <path d=\"M 389.996983 28.8 \nL 464.124255 28.8 \n\" style=\"fill:none;stroke:#000000;stroke-linecap:square;stroke-linejoin:miter;stroke-width:0.8;\"/>\n   </g>\n  </g>\n  <g id=\"axes_6\">\n   <g id=\"patch_27\">\n    <path d=\"M 20.5625 191.88 \nL 94.689773 191.88 \nL 94.689773 117.752727 \nL 20.5625 117.752727 \nz\n\" style=\"fill:#ffffff;\"/>\n   </g>\n   <g clip-path=\"url(#pd2199a8c1a)\">\n    <image height=\"75\" id=\"image40b48b023c\" transform=\"scale(1 -1)translate(0 -75)\" width=\"75\" x=\"20.5625\" xlink:href=\"data:image/png;base64,\niVBORw0KGgoAAAANSUhEUgAAAEsAAABLCAYAAAA4TnrqAAABzUlEQVR4nO3cT6qBYRiG8ec7Tkj+pMxMFDPrEAMbsgPbsAeljCzBJoyUkITos4TnvuvUmVy/8d371tU3eI/BKcqyLCMhTCIiYrvdppvFYpFuLpeLdN9yuUw30+lUOqvdbqebH+kkRASxLMQyEMtALAOxDMQyEMvwq4yu16t02Gq1Sje1Wi3dNBoN6b7b7ZZuKpWKdJaCL8tALAOxDMQyEMtALAOxDMQyEMsgveBfr5d02Pl8TjePxyPdFEUh3dfv99ON8heDii/LQCwDsQzEMhDLQCwDsQzEMkiP0nq9Lh02Ho/TzWazSTeDwUC6T9nxs/I/IZaBWAZiGYhlIJaBWAZiGYhlkF7wn89HOqzT6aSbZrOZbo7Ho3Tffr9PN8PhUDpLeenzZRmIZSCWgVgGYhmIZSCWgVgG6VH6fr+lw06nU7oZjUbp5vl8Svet1+t0M5lMpLO63W664csyEMtALAOxDMQyEMtALAOxDNKjtFqtSocpvzYeDod0o/ziGqE9Xu/3u3QWj9I/RiwDsQzEMhDLQCwDsQzEMhDLIL3gW62WdNhsNks3u90u3Sj/3CIiYj6fp5teryedpeDLMhDLQCwDsQzEMhDLQCwDsQxf6UlKV0po5lEAAAAASUVORK5CYII=\" y=\"-116.88\"/>\n   </g>\n   <g id=\"matplotlib.axis_11\">\n    <g id=\"xtick_11\">\n     <g id=\"line2d_21\">\n      <g>\n       <use style=\"stroke:#000000;stroke-width:0.8;\" x=\"25.195455\" xlink:href=\"#mef50ad0ded\" y=\"191.88\"/>\n      </g>\n     </g>\n     <g id=\"text_21\">\n      <!-- 0 -->\n      <g transform=\"translate(22.014205 206.478437)scale(0.1 -0.1)\">\n       <use xlink:href=\"#DejaVuSans-48\"/>\n      </g>\n     </g>\n    </g>\n    <g id=\"xtick_12\">\n     <g id=\"line2d_22\">\n      <g>\n       <use style=\"stroke:#000000;stroke-width:0.8;\" x=\"71.525\" xlink:href=\"#mef50ad0ded\" y=\"191.88\"/>\n      </g>\n     </g>\n     <g id=\"text_22\">\n      <!-- 5 -->\n      <g transform=\"translate(68.34375 206.478437)scale(0.1 -0.1)\">\n       <use xlink:href=\"#DejaVuSans-53\"/>\n      </g>\n     </g>\n    </g>\n   </g>\n   <g id=\"matplotlib.axis_12\">\n    <g id=\"ytick_11\">\n     <g id=\"line2d_23\">\n      <g>\n       <use style=\"stroke:#000000;stroke-width:0.8;\" x=\"20.5625\" xlink:href=\"#m3d860cad69\" y=\"122.385682\"/>\n      </g>\n     </g>\n     <g id=\"text_23\">\n      <!-- 0 -->\n      <g transform=\"translate(7.2 126.184901)scale(0.1 -0.1)\">\n       <use xlink:href=\"#DejaVuSans-48\"/>\n      </g>\n     </g>\n    </g>\n    <g id=\"ytick_12\">\n     <g id=\"line2d_24\">\n      <g>\n       <use style=\"stroke:#000000;stroke-width:0.8;\" x=\"20.5625\" xlink:href=\"#m3d860cad69\" y=\"168.715227\"/>\n      </g>\n     </g>\n     <g id=\"text_24\">\n      <!-- 5 -->\n      <g transform=\"translate(7.2 172.514446)scale(0.1 -0.1)\">\n       <use xlink:href=\"#DejaVuSans-53\"/>\n      </g>\n     </g>\n    </g>\n   </g>\n   <g id=\"patch_28\">\n    <path d=\"M 20.5625 191.88 \nL 20.5625 117.752727 \n\" style=\"fill:none;stroke:#000000;stroke-linecap:square;stroke-linejoin:miter;stroke-width:0.8;\"/>\n   </g>\n   <g id=\"patch_29\">\n    <path d=\"M 94.689773 191.88 \nL 94.689773 117.752727 \n\" style=\"fill:none;stroke:#000000;stroke-linecap:square;stroke-linejoin:miter;stroke-width:0.8;\"/>\n   </g>\n   <g id=\"patch_30\">\n    <path d=\"M 20.5625 191.88 \nL 94.689773 191.88 \n\" style=\"fill:none;stroke:#000000;stroke-linecap:square;stroke-linejoin:miter;stroke-width:0.8;\"/>\n   </g>\n   <g id=\"patch_31\">\n    <path d=\"M 20.5625 117.752727 \nL 94.689773 117.752727 \n\" style=\"fill:none;stroke:#000000;stroke-linecap:square;stroke-linejoin:miter;stroke-width:0.8;\"/>\n   </g>\n  </g>\n  <g id=\"axes_7\">\n   <g id=\"patch_32\">\n    <path d=\"M 112.921121 191.88 \nL 187.048393 191.88 \nL 187.048393 117.752727 \nL 112.921121 117.752727 \nz\n\" style=\"fill:#ffffff;\"/>\n   </g>\n   <g clip-path=\"url(#pcf203dcc7f)\">\n    <image height=\"75\" id=\"image491e60b555\" transform=\"scale(1 -1)translate(0 -75)\" width=\"75\" x=\"112.921121\" xlink:href=\"data:image/png;base64,\niVBORw0KGgoAAAANSUhEUgAAAEsAAABLCAYAAAA4TnrqAAAB1klEQVR4nO3boc6BYRyG8edF022m6YJqTsBUm2ROQiM5ACeg2hRV8lbBdLKgCIohCK9D+N/3ZvvCd/3yvefZrj3BjKwoiiL9yOfzCTfz+TzcbDYb6b7tdhtums2mdJai9LOT/gFiGYhlIJaBWAZiGYhlIJahonwmvd/v0mGXyyXclMvlcHO9XqX7TqdTuOFD6R8hloFYBmIZiGUgloFYBmIZiGWoKKPVaiUdtl6vw83r9Qo3j8dDum+xWISbdrstndVoNMINL8tALAOxDMQyEMtALAOxDMQyVLIsC0fn81k67HA4hJvRaBRuns+ndN9+vw83eZ5LZ43H43DDyzIQy0AsA7EMxDIQy0AsA7EMxDJIXyv3ej3psOVyGW46nU64abVa0n273S7cqF9RK3hZBmIZiGUgloFYBmIZiGUgliFT/kKn/D4hpZSGw2G4ud1u4WY2m0n3KV8/12o16axutxtueFkGYhmIZSCWgVgGYhmIZSCWQfpQqjoej+Gm3++Hm8FgIN03nU7DTbValc5SdrwsA7EMxDIQy0AsA7EMxDIQy0Asg/RbB5Xyd7XJZBJulL/ipZTS+/0ON/V6XTqrVIrfDS/LQCwDsQzEMhDLQCwDsQzEMnwBhORgIykTzQ4AAAAASUVORK5CYII=\" y=\"-116.88\"/>\n   </g>\n   <g id=\"matplotlib.axis_13\">\n    <g id=\"xtick_13\">\n     <g id=\"line2d_25\">\n      <g>\n       <use style=\"stroke:#000000;stroke-width:0.8;\" x=\"117.554075\" xlink:href=\"#mef50ad0ded\" y=\"191.88\"/>\n      </g>\n     </g>\n     <g id=\"text_25\">\n      <!-- 0 -->\n      <g transform=\"translate(114.372825 206.478437)scale(0.1 -0.1)\">\n       <use xlink:href=\"#DejaVuSans-48\"/>\n      </g>\n     </g>\n    </g>\n    <g id=\"xtick_14\">\n     <g id=\"line2d_26\">\n      <g>\n       <use style=\"stroke:#000000;stroke-width:0.8;\" x=\"163.883621\" xlink:href=\"#mef50ad0ded\" y=\"191.88\"/>\n      </g>\n     </g>\n     <g id=\"text_26\">\n      <!-- 5 -->\n      <g transform=\"translate(160.702371 206.478437)scale(0.1 -0.1)\">\n       <use xlink:href=\"#DejaVuSans-53\"/>\n      </g>\n     </g>\n    </g>\n   </g>\n   <g id=\"matplotlib.axis_14\">\n    <g id=\"ytick_13\">\n     <g id=\"line2d_27\">\n      <g>\n       <use style=\"stroke:#000000;stroke-width:0.8;\" x=\"112.921121\" xlink:href=\"#m3d860cad69\" y=\"122.385682\"/>\n      </g>\n     </g>\n     <g id=\"text_27\">\n      <!-- 0 -->\n      <g transform=\"translate(99.558621 126.184901)scale(0.1 -0.1)\">\n       <use xlink:href=\"#DejaVuSans-48\"/>\n      </g>\n     </g>\n    </g>\n    <g id=\"ytick_14\">\n     <g id=\"line2d_28\">\n      <g>\n       <use style=\"stroke:#000000;stroke-width:0.8;\" x=\"112.921121\" xlink:href=\"#m3d860cad69\" y=\"168.715227\"/>\n      </g>\n     </g>\n     <g id=\"text_28\">\n      <!-- 5 -->\n      <g transform=\"translate(99.558621 172.514446)scale(0.1 -0.1)\">\n       <use xlink:href=\"#DejaVuSans-53\"/>\n      </g>\n     </g>\n    </g>\n   </g>\n   <g id=\"patch_33\">\n    <path d=\"M 112.921121 191.88 \nL 112.921121 117.752727 \n\" style=\"fill:none;stroke:#000000;stroke-linecap:square;stroke-linejoin:miter;stroke-width:0.8;\"/>\n   </g>\n   <g id=\"patch_34\">\n    <path d=\"M 187.048393 191.88 \nL 187.048393 117.752727 \n\" style=\"fill:none;stroke:#000000;stroke-linecap:square;stroke-linejoin:miter;stroke-width:0.8;\"/>\n   </g>\n   <g id=\"patch_35\">\n    <path d=\"M 112.921121 191.88 \nL 187.048393 191.88 \n\" style=\"fill:none;stroke:#000000;stroke-linecap:square;stroke-linejoin:miter;stroke-width:0.8;\"/>\n   </g>\n   <g id=\"patch_36\">\n    <path d=\"M 112.921121 117.752727 \nL 187.048393 117.752727 \n\" style=\"fill:none;stroke:#000000;stroke-linecap:square;stroke-linejoin:miter;stroke-width:0.8;\"/>\n   </g>\n  </g>\n  <g id=\"axes_8\">\n   <g id=\"patch_37\">\n    <path d=\"M 205.279741 191.88 \nL 279.407014 191.88 \nL 279.407014 117.752727 \nL 205.279741 117.752727 \nz\n\" style=\"fill:#ffffff;\"/>\n   </g>\n   <g clip-path=\"url(#p6d34a6e185)\">\n    <image height=\"75\" id=\"image0369224b31\" transform=\"scale(1 -1)translate(0 -75)\" width=\"75\" x=\"205.279741\" xlink:href=\"data:image/png;base64,\niVBORw0KGgoAAAANSUhEUgAAAEsAAABLCAYAAAA4TnrqAAAB2UlEQVR4nO3bPY5BURyG8TODuC2NiEKhc61AJCqlikKvVrEOlcQC7EGv0FuCiFqn8BF3lvB/30Q3z69+c07y5BYnMvNTFEWRArfbLZqklFKazWbh5nA4hJvlcindt1qtwk29XpfOUvx+7aR/gFgGYhmIZSCWgVgGYhmIZSgro0qlIh02n8/DTaPRCDf7/V66r9frhZvJZCKdVa1Www1floFYBmIZiGUgloFYBmIZiGUglkF6wWdZJh02HA7jC8vxla/XS7rvcrmEm+fzKZ3FC/7LiGUgloFYBmIZiGUgloFYBulRer1epcM2m024OZ/P4eb9fkv3NZvNcFMqlaSzFHxZBmIZiGUgloFYBmIZiGUgloFYBukFfzwepcO222246XQ64WY8Hkv39fv9cKP+JK7gyzIQy0AsA7EMxDIQy0AsA7EM0qP0fr9Lh30+n3CzWCzCzWg0ku6r1WrhRvgPQRlfloFYBmIZiGUgloFYBmIZiGWQHqXK3xSklNLj8Qg36/U63JxOJ+m+drsdbtRfXbvdbrjhyzIQy0AsA7EMxDIQy0AsA7EMxDJIL/jBYCAdNp1Ow43ydxO73U66r9VqhZs8z6WzeMF/GbEMxDIQy0AsA7EMxDIQy/AHcH9IL294r2oAAAAASUVORK5CYII=\" y=\"-116.88\"/>\n   </g>\n   <g id=\"matplotlib.axis_15\">\n    <g id=\"xtick_15\">\n     <g id=\"line2d_29\">\n      <g>\n       <use style=\"stroke:#000000;stroke-width:0.8;\" x=\"209.912696\" xlink:href=\"#mef50ad0ded\" y=\"191.88\"/>\n      </g>\n     </g>\n     <g id=\"text_29\">\n      <!-- 0 -->\n      <g transform=\"translate(206.731446 206.478437)scale(0.1 -0.1)\">\n       <use xlink:href=\"#DejaVuSans-48\"/>\n      </g>\n     </g>\n    </g>\n    <g id=\"xtick_16\">\n     <g id=\"line2d_30\">\n      <g>\n       <use style=\"stroke:#000000;stroke-width:0.8;\" x=\"256.242241\" xlink:href=\"#mef50ad0ded\" y=\"191.88\"/>\n      </g>\n     </g>\n     <g id=\"text_30\">\n      <!-- 5 -->\n      <g transform=\"translate(253.060991 206.478437)scale(0.1 -0.1)\">\n       <use xlink:href=\"#DejaVuSans-53\"/>\n      </g>\n     </g>\n    </g>\n   </g>\n   <g id=\"matplotlib.axis_16\">\n    <g id=\"ytick_15\">\n     <g id=\"line2d_31\">\n      <g>\n       <use style=\"stroke:#000000;stroke-width:0.8;\" x=\"205.279741\" xlink:href=\"#m3d860cad69\" y=\"122.385682\"/>\n      </g>\n     </g>\n     <g id=\"text_31\">\n      <!-- 0 -->\n      <g transform=\"translate(191.917241 126.184901)scale(0.1 -0.1)\">\n       <use xlink:href=\"#DejaVuSans-48\"/>\n      </g>\n     </g>\n    </g>\n    <g id=\"ytick_16\">\n     <g id=\"line2d_32\">\n      <g>\n       <use style=\"stroke:#000000;stroke-width:0.8;\" x=\"205.279741\" xlink:href=\"#m3d860cad69\" y=\"168.715227\"/>\n      </g>\n     </g>\n     <g id=\"text_32\">\n      <!-- 5 -->\n      <g transform=\"translate(191.917241 172.514446)scale(0.1 -0.1)\">\n       <use xlink:href=\"#DejaVuSans-53\"/>\n      </g>\n     </g>\n    </g>\n   </g>\n   <g id=\"patch_38\">\n    <path d=\"M 205.279741 191.88 \nL 205.279741 117.752727 \n\" style=\"fill:none;stroke:#000000;stroke-linecap:square;stroke-linejoin:miter;stroke-width:0.8;\"/>\n   </g>\n   <g id=\"patch_39\">\n    <path d=\"M 279.407014 191.88 \nL 279.407014 117.752727 \n\" style=\"fill:none;stroke:#000000;stroke-linecap:square;stroke-linejoin:miter;stroke-width:0.8;\"/>\n   </g>\n   <g id=\"patch_40\">\n    <path d=\"M 205.279741 191.88 \nL 279.407014 191.88 \n\" style=\"fill:none;stroke:#000000;stroke-linecap:square;stroke-linejoin:miter;stroke-width:0.8;\"/>\n   </g>\n   <g id=\"patch_41\">\n    <path d=\"M 205.279741 117.752727 \nL 279.407014 117.752727 \n\" style=\"fill:none;stroke:#000000;stroke-linecap:square;stroke-linejoin:miter;stroke-width:0.8;\"/>\n   </g>\n  </g>\n  <g id=\"axes_9\">\n   <g id=\"patch_42\">\n    <path d=\"M 297.638362 191.88 \nL 371.765635 191.88 \nL 371.765635 117.752727 \nL 297.638362 117.752727 \nz\n\" style=\"fill:#ffffff;\"/>\n   </g>\n   <g clip-path=\"url(#pa2661c521e)\">\n    <image height=\"75\" id=\"image5a5323273c\" transform=\"scale(1 -1)translate(0 -75)\" width=\"75\" x=\"297.638362\" xlink:href=\"data:image/png;base64,\niVBORw0KGgoAAAANSUhEUgAAAEsAAABLCAYAAAA4TnrqAAAB2UlEQVR4nO3cIYpCYRiF4e+OUywG7YI2wWYSg8noMsyCqzBrEywWk+ASDC5AzGYx2VQE0VnCd16wzXny4f/h5YaL3Jni8/l8IvF+v7NJRETM5/N0s1wu081ms5Huazab6aZUKklnKX6+dtI/4FiAYwGOBTgW4FiAYwGOBfwqo6IopMO63W66mc1m6Wa320n3NRoNafctfrIAxwIcC3AswLEAxwIcC3AswLEA6Q3+er1Kh51Op3RTqVTSzXq9lu5rtVrpptPpSGeVy+V04ycLcCzAsQDHAhwLcCzAsQDHAqSX0ufzKR223+/TzeVySTeHw0G6bzqdppvxeCydNRgM0o2fLMCxAMcCHAtwLMCxAMcCHAtwLEB6g1d+co2I6Pf76Ub5wnixWEj3nc/ndHO/36WzFH6yAMcCHAtwLMCxAMcCHAtwLEB6KX29XtJhj8cj3QyHw3Sjvkhut9t0U6/XpbMUfrIAxwIcC3AswLEAxwIcC3As4Kt/QrdardKN8n8darWadN/tdks3ykfBERHtdjvd+MkCHAtwLMCxAMcCHAtwLMCxAMcCpDf4arUqHTYajdLNZDJJN8fjUbqv1+ulG/U7DeWLbD9ZgGMBjgU4FuBYgGMBjgU4FvAHYTBQ6rJ/AqUAAAAASUVORK5CYII=\" y=\"-116.88\"/>\n   </g>\n   <g id=\"matplotlib.axis_17\">\n    <g id=\"xtick_17\">\n     <g id=\"line2d_33\">\n      <g>\n       <use style=\"stroke:#000000;stroke-width:0.8;\" x=\"302.271317\" xlink:href=\"#mef50ad0ded\" y=\"191.88\"/>\n      </g>\n     </g>\n     <g id=\"text_33\">\n      <!-- 0 -->\n      <g transform=\"translate(299.090067 206.478437)scale(0.1 -0.1)\">\n       <use xlink:href=\"#DejaVuSans-48\"/>\n      </g>\n     </g>\n    </g>\n    <g id=\"xtick_18\">\n     <g id=\"line2d_34\">\n      <g>\n       <use style=\"stroke:#000000;stroke-width:0.8;\" x=\"348.600862\" xlink:href=\"#mef50ad0ded\" y=\"191.88\"/>\n      </g>\n     </g>\n     <g id=\"text_34\">\n      <!-- 5 -->\n      <g transform=\"translate(345.419612 206.478437)scale(0.1 -0.1)\">\n       <use xlink:href=\"#DejaVuSans-53\"/>\n      </g>\n     </g>\n    </g>\n   </g>\n   <g id=\"matplotlib.axis_18\">\n    <g id=\"ytick_17\">\n     <g id=\"line2d_35\">\n      <g>\n       <use style=\"stroke:#000000;stroke-width:0.8;\" x=\"297.638362\" xlink:href=\"#m3d860cad69\" y=\"122.385682\"/>\n      </g>\n     </g>\n     <g id=\"text_35\">\n      <!-- 0 -->\n      <g transform=\"translate(284.275862 126.184901)scale(0.1 -0.1)\">\n       <use xlink:href=\"#DejaVuSans-48\"/>\n      </g>\n     </g>\n    </g>\n    <g id=\"ytick_18\">\n     <g id=\"line2d_36\">\n      <g>\n       <use style=\"stroke:#000000;stroke-width:0.8;\" x=\"297.638362\" xlink:href=\"#m3d860cad69\" y=\"168.715227\"/>\n      </g>\n     </g>\n     <g id=\"text_36\">\n      <!-- 5 -->\n      <g transform=\"translate(284.275862 172.514446)scale(0.1 -0.1)\">\n       <use xlink:href=\"#DejaVuSans-53\"/>\n      </g>\n     </g>\n    </g>\n   </g>\n   <g id=\"patch_43\">\n    <path d=\"M 297.638362 191.88 \nL 297.638362 117.752727 \n\" style=\"fill:none;stroke:#000000;stroke-linecap:square;stroke-linejoin:miter;stroke-width:0.8;\"/>\n   </g>\n   <g id=\"patch_44\">\n    <path d=\"M 371.765635 191.88 \nL 371.765635 117.752727 \n\" style=\"fill:none;stroke:#000000;stroke-linecap:square;stroke-linejoin:miter;stroke-width:0.8;\"/>\n   </g>\n   <g id=\"patch_45\">\n    <path d=\"M 297.638362 191.88 \nL 371.765635 191.88 \n\" style=\"fill:none;stroke:#000000;stroke-linecap:square;stroke-linejoin:miter;stroke-width:0.8;\"/>\n   </g>\n   <g id=\"patch_46\">\n    <path d=\"M 297.638362 117.752727 \nL 371.765635 117.752727 \n\" style=\"fill:none;stroke:#000000;stroke-linecap:square;stroke-linejoin:miter;stroke-width:0.8;\"/>\n   </g>\n  </g>\n  <g id=\"axes_10\">\n   <g id=\"patch_47\">\n    <path d=\"M 389.996983 191.88 \nL 464.124255 191.88 \nL 464.124255 117.752727 \nL 389.996983 117.752727 \nz\n\" style=\"fill:#ffffff;\"/>\n   </g>\n   <g clip-path=\"url(#p65fa8d432e)\">\n    <image height=\"75\" id=\"imagef6e3b86528\" transform=\"scale(1 -1)translate(0 -75)\" width=\"75\" x=\"389.996983\" xlink:href=\"data:image/png;base64,\niVBORw0KGgoAAAANSUhEUgAAAEsAAABLCAYAAAA4TnrqAAAB0UlEQVR4nO3aMYrCUBSF4TdmENKYTqwFe/uktXUB1qa01g3YugFLS/cgguncgSLoBiwVscgs4Z4DU/5ffbkPfl7xCPlp27ZNgc/nE42klFKq6zqc2e124Uyv15POm81m4cxqtZJ2DQaDcKYjbUJKiVgWYhmIZSCWgVgGYhmIZfhVht7vt7RsNBqFM5vNJpy53W7Sefv9PpwZj8fSLuVBzc0yEMtALAOxDMQyEMtALAOxDMQySC/4PM+lZfP5PJxRPhmfTifpvOPxGM58v19pV6cT3xtuloFYBmIZiGUgloFYBmIZiGWQHqXdbldapjw4D4dDOLNer6XzsiwLZyaTibRLwc0yEMtALAOxDMQyEMtALAOxDMQySC94lfIJV/kUfL1epfOUP5GHw6G0S8HNMhDLQCwDsQzEMhDLQCwDsQzSo/TxeEjL7vd7ODOdTsOZpmmk887nczjzer2kXUVRhDPcLAOxDMQyEMtALAOxDMQyEMsgPUovl4u0bLFYhDNlWYYz6g+/yhfV5/Mp7eJR+s+IZSCWgVgGYhmIZSCWgVgGYhmkF3xVVdIy5c/g7XYbzqgv+OVyGc70+31pl4KbZSCWgVgGYhmIZSCWgVgGYhn+AJY2TWaYuIG6AAAAAElFTkSuQmCC\" y=\"-116.88\"/>\n   </g>\n   <g id=\"matplotlib.axis_19\">\n    <g id=\"xtick_19\">\n     <g id=\"line2d_37\">\n      <g>\n       <use style=\"stroke:#000000;stroke-width:0.8;\" x=\"394.629937\" xlink:href=\"#mef50ad0ded\" y=\"191.88\"/>\n      </g>\n     </g>\n     <g id=\"text_37\">\n      <!-- 0 -->\n      <g transform=\"translate(391.448687 206.478437)scale(0.1 -0.1)\">\n       <use xlink:href=\"#DejaVuSans-48\"/>\n      </g>\n     </g>\n    </g>\n    <g id=\"xtick_20\">\n     <g id=\"line2d_38\">\n      <g>\n       <use style=\"stroke:#000000;stroke-width:0.8;\" x=\"440.959483\" xlink:href=\"#mef50ad0ded\" y=\"191.88\"/>\n      </g>\n     </g>\n     <g id=\"text_38\">\n      <!-- 5 -->\n      <g transform=\"translate(437.778233 206.478437)scale(0.1 -0.1)\">\n       <use xlink:href=\"#DejaVuSans-53\"/>\n      </g>\n     </g>\n    </g>\n   </g>\n   <g id=\"matplotlib.axis_20\">\n    <g id=\"ytick_19\">\n     <g id=\"line2d_39\">\n      <g>\n       <use style=\"stroke:#000000;stroke-width:0.8;\" x=\"389.996983\" xlink:href=\"#m3d860cad69\" y=\"122.385682\"/>\n      </g>\n     </g>\n     <g id=\"text_39\">\n      <!-- 0 -->\n      <g transform=\"translate(376.634483 126.184901)scale(0.1 -0.1)\">\n       <use xlink:href=\"#DejaVuSans-48\"/>\n      </g>\n     </g>\n    </g>\n    <g id=\"ytick_20\">\n     <g id=\"line2d_40\">\n      <g>\n       <use style=\"stroke:#000000;stroke-width:0.8;\" x=\"389.996983\" xlink:href=\"#m3d860cad69\" y=\"168.715227\"/>\n      </g>\n     </g>\n     <g id=\"text_40\">\n      <!-- 5 -->\n      <g transform=\"translate(376.634483 172.514446)scale(0.1 -0.1)\">\n       <use xlink:href=\"#DejaVuSans-53\"/>\n      </g>\n     </g>\n    </g>\n   </g>\n   <g id=\"patch_48\">\n    <path d=\"M 389.996983 191.88 \nL 389.996983 117.752727 \n\" style=\"fill:none;stroke:#000000;stroke-linecap:square;stroke-linejoin:miter;stroke-width:0.8;\"/>\n   </g>\n   <g id=\"patch_49\">\n    <path d=\"M 464.124255 191.88 \nL 464.124255 117.752727 \n\" style=\"fill:none;stroke:#000000;stroke-linecap:square;stroke-linejoin:miter;stroke-width:0.8;\"/>\n   </g>\n   <g id=\"patch_50\">\n    <path d=\"M 389.996983 191.88 \nL 464.124255 191.88 \n\" style=\"fill:none;stroke:#000000;stroke-linecap:square;stroke-linejoin:miter;stroke-width:0.8;\"/>\n   </g>\n   <g id=\"patch_51\">\n    <path d=\"M 389.996983 117.752727 \nL 464.124255 117.752727 \n\" style=\"fill:none;stroke:#000000;stroke-linecap:square;stroke-linejoin:miter;stroke-width:0.8;\"/>\n   </g>\n  </g>\n  <g id=\"text_41\">\n   <!-- Cluser Center Images -->\n   <g transform=\"translate(150.422596 17.837812)scale(0.14 -0.14)\">\n    <defs>\n     <path d=\"M 67 4 \nQ 61.8125 1.3125 56.203125 -0.046875 \nQ 50.59375 -1.421875 44.484375 -1.421875 \nQ 26.265625 -1.421875 15.625 8.765625 \nQ 4.984375 18.953125 4.984375 36.375 \nQ 4.984375 53.859375 15.625 64.03125 \nQ 26.265625 74.21875 44.484375 74.21875 \nQ 50.59375 74.21875 56.203125 72.84375 \nQ 61.8125 71.484375 67 68.796875 \nL 67 53.71875 \nQ 61.765625 57.28125 56.6875 58.9375 \nQ 51.609375 60.59375 46 60.59375 \nQ 35.9375 60.59375 30.171875 54.140625 \nQ 24.421875 47.703125 24.421875 36.375 \nQ 24.421875 25.09375 30.171875 18.640625 \nQ 35.9375 12.203125 46 12.203125 \nQ 51.609375 12.203125 56.6875 13.859375 \nQ 61.765625 15.53125 67 19.09375 \nz\n\" id=\"DejaVuSans-Bold-67\"/>\n     <path d=\"M 8.40625 75.984375 \nL 25.875 75.984375 \nL 25.875 0 \nL 8.40625 0 \nz\n\" id=\"DejaVuSans-Bold-108\"/>\n     <path d=\"M 7.8125 21.296875 \nL 7.8125 54.6875 \nL 25.390625 54.6875 \nL 25.390625 49.21875 \nQ 25.390625 44.78125 25.34375 38.0625 \nQ 25.296875 31.34375 25.296875 29.109375 \nQ 25.296875 22.515625 25.640625 19.609375 \nQ 25.984375 16.703125 26.8125 15.375 \nQ 27.875 13.671875 29.609375 12.734375 \nQ 31.34375 11.8125 33.59375 11.8125 \nQ 39.0625 11.8125 42.1875 16.015625 \nQ 45.3125 20.21875 45.3125 27.6875 \nL 45.3125 54.6875 \nL 62.796875 54.6875 \nL 62.796875 0 \nL 45.3125 0 \nL 45.3125 7.90625 \nQ 41.359375 3.125 36.9375 0.84375 \nQ 32.515625 -1.421875 27.203125 -1.421875 \nQ 17.71875 -1.421875 12.765625 4.390625 \nQ 7.8125 10.203125 7.8125 21.296875 \nz\n\" id=\"DejaVuSans-Bold-117\"/>\n     <path d=\"M 51.125 52.984375 \nL 51.125 39.703125 \nQ 45.515625 42.046875 40.28125 43.21875 \nQ 35.0625 44.390625 30.421875 44.390625 \nQ 25.4375 44.390625 23.015625 43.140625 \nQ 20.609375 41.890625 20.609375 39.3125 \nQ 20.609375 37.203125 22.4375 36.078125 \nQ 24.265625 34.96875 29 34.421875 \nL 32.078125 33.984375 \nQ 45.515625 32.28125 50.140625 28.375 \nQ 54.78125 24.46875 54.78125 16.109375 \nQ 54.78125 7.375 48.328125 2.96875 \nQ 41.890625 -1.421875 29.109375 -1.421875 \nQ 23.6875 -1.421875 17.890625 -0.5625 \nQ 12.109375 0.296875 6 2 \nL 6 15.28125 \nQ 11.234375 12.75 16.71875 11.46875 \nQ 22.21875 10.203125 27.875 10.203125 \nQ 33.015625 10.203125 35.59375 11.609375 \nQ 38.1875 13.03125 38.1875 15.828125 \nQ 38.1875 18.171875 36.40625 19.3125 \nQ 34.625 20.453125 29.296875 21.09375 \nL 26.21875 21.484375 \nQ 14.546875 22.953125 9.859375 26.90625 \nQ 5.171875 30.859375 5.171875 38.921875 \nQ 5.171875 47.609375 11.125 51.796875 \nQ 17.09375 56 29.390625 56 \nQ 34.234375 56 39.546875 55.265625 \nQ 44.875 54.546875 51.125 52.984375 \nz\n\" id=\"DejaVuSans-Bold-115\"/>\n     <path d=\"M 62.984375 27.484375 \nL 62.984375 22.515625 \nL 22.125 22.515625 \nQ 22.75 16.359375 26.5625 13.28125 \nQ 30.375 10.203125 37.203125 10.203125 \nQ 42.71875 10.203125 48.5 11.84375 \nQ 54.296875 13.484375 60.40625 16.796875 \nL 60.40625 3.328125 \nQ 54.203125 0.984375 48 -0.21875 \nQ 41.796875 -1.421875 35.59375 -1.421875 \nQ 20.75 -1.421875 12.515625 6.125 \nQ 4.296875 13.671875 4.296875 27.296875 \nQ 4.296875 40.671875 12.375 48.328125 \nQ 20.453125 56 34.625 56 \nQ 47.515625 56 55.25 48.234375 \nQ 62.984375 40.484375 62.984375 27.484375 \nz\nM 45.015625 33.296875 \nQ 45.015625 38.28125 42.109375 41.328125 \nQ 39.203125 44.390625 34.515625 44.390625 \nQ 29.4375 44.390625 26.265625 41.53125 \nQ 23.09375 38.671875 22.3125 33.296875 \nz\n\" id=\"DejaVuSans-Bold-101\"/>\n     <path d=\"M 49.03125 39.796875 \nQ 46.734375 40.875 44.453125 41.375 \nQ 42.1875 41.890625 39.890625 41.890625 \nQ 33.15625 41.890625 29.515625 37.5625 \nQ 25.875 33.25 25.875 25.203125 \nL 25.875 0 \nL 8.40625 0 \nL 8.40625 54.6875 \nL 25.875 54.6875 \nL 25.875 45.703125 \nQ 29.25 51.078125 33.609375 53.53125 \nQ 37.984375 56 44.09375 56 \nQ 44.96875 56 45.984375 55.921875 \nQ 47.015625 55.859375 48.96875 55.609375 \nz\n\" id=\"DejaVuSans-Bold-114\"/>\n     <path id=\"DejaVuSans-Bold-32\"/>\n     <path d=\"M 63.375 33.296875 \nL 63.375 0 \nL 45.796875 0 \nL 45.796875 5.421875 \nL 45.796875 25.484375 \nQ 45.796875 32.5625 45.484375 35.25 \nQ 45.171875 37.9375 44.390625 39.203125 \nQ 43.359375 40.921875 41.59375 41.875 \nQ 39.84375 42.828125 37.59375 42.828125 \nQ 32.125 42.828125 29 38.59375 \nQ 25.875 34.375 25.875 26.90625 \nL 25.875 0 \nL 8.40625 0 \nL 8.40625 54.6875 \nL 25.875 54.6875 \nL 25.875 46.6875 \nQ 29.828125 51.46875 34.265625 53.734375 \nQ 38.71875 56 44.09375 56 \nQ 53.5625 56 58.46875 50.1875 \nQ 63.375 44.390625 63.375 33.296875 \nz\n\" id=\"DejaVuSans-Bold-110\"/>\n     <path d=\"M 27.484375 70.21875 \nL 27.484375 54.6875 \nL 45.515625 54.6875 \nL 45.515625 42.1875 \nL 27.484375 42.1875 \nL 27.484375 19 \nQ 27.484375 15.1875 29 13.84375 \nQ 30.515625 12.5 35.015625 12.5 \nL 44 12.5 \nL 44 0 \nL 29 0 \nQ 18.65625 0 14.328125 4.3125 \nQ 10.015625 8.640625 10.015625 19 \nL 10.015625 42.1875 \nL 1.3125 42.1875 \nL 1.3125 54.6875 \nL 10.015625 54.6875 \nL 10.015625 70.21875 \nz\n\" id=\"DejaVuSans-Bold-116\"/>\n     <path d=\"M 9.1875 72.90625 \nL 27.984375 72.90625 \nL 27.984375 0 \nL 9.1875 0 \nz\n\" id=\"DejaVuSans-Bold-73\"/>\n     <path d=\"M 59.078125 45.609375 \nQ 62.40625 50.6875 66.96875 53.34375 \nQ 71.53125 56 77 56 \nQ 86.421875 56 91.359375 50.1875 \nQ 96.296875 44.390625 96.296875 33.296875 \nL 96.296875 0 \nL 78.71875 0 \nL 78.71875 28.515625 \nQ 78.765625 29.15625 78.78125 29.828125 \nQ 78.8125 30.515625 78.8125 31.78125 \nQ 78.8125 37.59375 77.09375 40.203125 \nQ 75.390625 42.828125 71.578125 42.828125 \nQ 66.609375 42.828125 63.890625 38.71875 \nQ 61.1875 34.625 61.078125 26.859375 \nL 61.078125 0 \nL 43.5 0 \nL 43.5 28.515625 \nQ 43.5 37.59375 41.9375 40.203125 \nQ 40.375 42.828125 36.375 42.828125 \nQ 31.34375 42.828125 28.609375 38.703125 \nQ 25.875 34.578125 25.875 26.90625 \nL 25.875 0 \nL 8.296875 0 \nL 8.296875 54.6875 \nL 25.875 54.6875 \nL 25.875 46.6875 \nQ 29.109375 51.3125 33.28125 53.65625 \nQ 37.453125 56 42.484375 56 \nQ 48.140625 56 52.484375 53.265625 \nQ 56.84375 50.53125 59.078125 45.609375 \nz\n\" id=\"DejaVuSans-Bold-109\"/>\n     <path d=\"M 32.90625 24.609375 \nQ 27.4375 24.609375 24.671875 22.75 \nQ 21.921875 20.90625 21.921875 17.28125 \nQ 21.921875 13.96875 24.140625 12.078125 \nQ 26.375 10.203125 30.328125 10.203125 \nQ 35.25 10.203125 38.625 13.734375 \nQ 42 17.28125 42 22.609375 \nL 42 24.609375 \nz\nM 59.625 31.203125 \nL 59.625 0 \nL 42 0 \nL 42 8.109375 \nQ 38.484375 3.125 34.078125 0.84375 \nQ 29.6875 -1.421875 23.390625 -1.421875 \nQ 14.890625 -1.421875 9.59375 3.53125 \nQ 4.296875 8.5 4.296875 16.40625 \nQ 4.296875 26.03125 10.90625 30.515625 \nQ 17.53125 35.015625 31.6875 35.015625 \nL 42 35.015625 \nL 42 36.375 \nQ 42 40.53125 38.71875 42.453125 \nQ 35.453125 44.390625 28.515625 44.390625 \nQ 22.90625 44.390625 18.0625 43.265625 \nQ 13.234375 42.140625 9.078125 39.890625 \nL 9.078125 53.21875 \nQ 14.703125 54.59375 20.359375 55.296875 \nQ 26.03125 56 31.6875 56 \nQ 46.484375 56 53.046875 50.171875 \nQ 59.625 44.34375 59.625 31.203125 \nz\n\" id=\"DejaVuSans-Bold-97\"/>\n     <path d=\"M 45.609375 9.28125 \nQ 42 4.5 37.640625 2.25 \nQ 33.296875 0 27.59375 0 \nQ 17.578125 0 11.03125 7.875 \nQ 4.5 15.765625 4.5 27.984375 \nQ 4.5 40.234375 11.03125 48.0625 \nQ 17.578125 55.90625 27.59375 55.90625 \nQ 33.296875 55.90625 37.640625 53.65625 \nQ 42 51.421875 45.609375 46.578125 \nL 45.609375 54.6875 \nL 63.1875 54.6875 \nL 63.1875 5.515625 \nQ 63.1875 -7.671875 54.859375 -14.625 \nQ 46.53125 -21.578125 30.71875 -21.578125 \nQ 25.59375 -21.578125 20.796875 -20.796875 \nQ 16.015625 -20.015625 11.1875 -18.40625 \nL 11.1875 -4.78125 \nQ 15.765625 -7.421875 20.15625 -8.71875 \nQ 24.5625 -10.015625 29 -10.015625 \nQ 37.59375 -10.015625 41.59375 -6.25 \nQ 45.609375 -2.484375 45.609375 5.515625 \nz\nM 34.078125 43.3125 \nQ 28.65625 43.3125 25.625 39.296875 \nQ 22.609375 35.296875 22.609375 27.984375 \nQ 22.609375 20.453125 25.53125 16.578125 \nQ 28.46875 12.703125 34.078125 12.703125 \nQ 39.546875 12.703125 42.578125 16.703125 \nQ 45.609375 20.703125 45.609375 27.984375 \nQ 45.609375 35.296875 42.578125 39.296875 \nQ 39.546875 43.3125 34.078125 43.3125 \nz\n\" id=\"DejaVuSans-Bold-103\"/>\n    </defs>\n    <use xlink:href=\"#DejaVuSans-Bold-67\"/>\n    <use x=\"73.388672\" xlink:href=\"#DejaVuSans-Bold-108\"/>\n    <use x=\"107.666016\" xlink:href=\"#DejaVuSans-Bold-117\"/>\n    <use x=\"178.857422\" xlink:href=\"#DejaVuSans-Bold-115\"/>\n    <use x=\"238.378906\" xlink:href=\"#DejaVuSans-Bold-101\"/>\n    <use x=\"306.201172\" xlink:href=\"#DejaVuSans-Bold-114\"/>\n    <use x=\"355.517578\" xlink:href=\"#DejaVuSans-Bold-32\"/>\n    <use x=\"390.332031\" xlink:href=\"#DejaVuSans-Bold-67\"/>\n    <use x=\"463.720703\" xlink:href=\"#DejaVuSans-Bold-101\"/>\n    <use x=\"531.542969\" xlink:href=\"#DejaVuSans-Bold-110\"/>\n    <use x=\"602.734375\" xlink:href=\"#DejaVuSans-Bold-116\"/>\n    <use x=\"650.537109\" xlink:href=\"#DejaVuSans-Bold-101\"/>\n    <use x=\"718.359375\" xlink:href=\"#DejaVuSans-Bold-114\"/>\n    <use x=\"767.675781\" xlink:href=\"#DejaVuSans-Bold-32\"/>\n    <use x=\"802.490234\" xlink:href=\"#DejaVuSans-Bold-73\"/>\n    <use x=\"839.697266\" xlink:href=\"#DejaVuSans-Bold-109\"/>\n    <use x=\"943.896484\" xlink:href=\"#DejaVuSans-Bold-97\"/>\n    <use x=\"1011.376953\" xlink:href=\"#DejaVuSans-Bold-103\"/>\n    <use x=\"1082.958984\" xlink:href=\"#DejaVuSans-Bold-101\"/>\n    <use x=\"1150.78125\" xlink:href=\"#DejaVuSans-Bold-115\"/>\n   </g>\n  </g>\n </g>\n <defs>\n  <clipPath id=\"pb8b7c1ea45\">\n   <rect height=\"74.127273\" width=\"74.127273\" x=\"20.5625\" y=\"28.8\"/>\n  </clipPath>\n  <clipPath id=\"p9c135d6d74\">\n   <rect height=\"74.127273\" width=\"74.127273\" x=\"112.921121\" y=\"28.8\"/>\n  </clipPath>\n  <clipPath id=\"p7ea294fb88\">\n   <rect height=\"74.127273\" width=\"74.127273\" x=\"205.279741\" y=\"28.8\"/>\n  </clipPath>\n  <clipPath id=\"pb4743705df\">\n   <rect height=\"74.127273\" width=\"74.127273\" x=\"297.638362\" y=\"28.8\"/>\n  </clipPath>\n  <clipPath id=\"p862c7c90e0\">\n   <rect height=\"74.127273\" width=\"74.127273\" x=\"389.996983\" y=\"28.8\"/>\n  </clipPath>\n  <clipPath id=\"pd2199a8c1a\">\n   <rect height=\"74.127273\" width=\"74.127273\" x=\"20.5625\" y=\"117.752727\"/>\n  </clipPath>\n  <clipPath id=\"pcf203dcc7f\">\n   <rect height=\"74.127273\" width=\"74.127273\" x=\"112.921121\" y=\"117.752727\"/>\n  </clipPath>\n  <clipPath id=\"p6d34a6e185\">\n   <rect height=\"74.127273\" width=\"74.127273\" x=\"205.279741\" y=\"117.752727\"/>\n  </clipPath>\n  <clipPath id=\"pa2661c521e\">\n   <rect height=\"74.127273\" width=\"74.127273\" x=\"297.638362\" y=\"117.752727\"/>\n  </clipPath>\n  <clipPath id=\"p65fa8d432e\">\n   <rect height=\"74.127273\" width=\"74.127273\" x=\"389.996983\" y=\"117.752727\"/>\n  </clipPath>\n </defs>\n</svg>\n",
      "image/png": "[encoded data removed]"
     },
     "metadata": {
      "needs_background": "light"
     }
    }
   ],
   "source": [
    "fig = plt.figure(figsize=(8, 3))\n",
    " \n",
    "fig.suptitle('Cluser Center Images', fontsize=14, fontweight='bold')\n",
    "\n",
    "for i in range(10):\n",
    " \n",
    "  # Initialize subplots in a grid of 2X5, at i+1th position\n",
    "  ax = fig.add_subplot(2, 5, 1 + i)\n",
    " \n",
    "  # Display images\n",
    "  ax.imshow(model.cluster_centers_[i].reshape((8, 8)), cmap=plt.cm.binary)\n",
    "\n",
    "plt.show()"
   ]
  },
  {
   "cell_type": "markdown",
   "metadata": {},
   "source": [
    "These are the centroids of handwriting from thirty different people collected by Bogazici University (Istanbul, Turkey):\n",
    "\n",
    "- Index 0 looks like 0\n",
    "- Index 1 looks like 9\n",
    "- Index 2 looks like 2\n",
    "- Index 3 looks like 1\n",
    "- Index 4 looks like 6\n",
    "- Index 5 looks like 8 (process of elimination)\n",
    "- Index 6 looks like 4\n",
    "- Index 7 looks like 5\n",
    "- Index 8 looks like 7\n",
    "- Index 9 looks like 3\n",
    "\n",
    "Notice how the centroids that look like 1 (index 3) and 8 (index 5) look very similar and 1 and 4 (index 6) also look very similar.\n"
   ]
  },
  {
   "cell_type": "markdown",
   "metadata": {},
   "source": [
    "### Testing the Model"
   ]
  },
  {
   "cell_type": "markdown",
   "metadata": {},
   "source": [
    "I used a Codeacademy tool to generate an array of my handwriting of 2029. This is stored in the `new_samples` variable. "
   ]
  },
  {
   "cell_type": "code",
   "execution_count": 13,
   "metadata": {},
   "outputs": [],
   "source": [
    "new_samples = np.array([\n",
    "[0.00,0.00,0.00,1.12,2.66,3.80,3.26,0.00,0.00,1.90,6.01,6.91,5.02,3.80,6.62,1.29,0.00,0.68,1.97,0.15,0.00,0.23,6.77,1.13,0.00,0.00,0.00,0.00,0.75,5.62,5.02,0.00,0.00,0.00,0.00,0.83,6.84,3.95,0.15,0.00,0.00,0.00,0.08,5.38,5.54,2.88,3.04,1.90,0.00,0.00,0.45,5.99,5.83,5.00,4.55,2.96,0.00,0.00,0.00,0.00,0.00,0.00,0.00,0.00],\n",
    "[0.00,0.00,0.00,0.00,0.00,0.00,0.00,0.00,0.00,0.00,2.65,5.93,4.25,1.05,0.00,0.00,0.00,4.62,6.16,2.27,4.61,7.06,1.29,0.00,0.00,6.85,0.45,0.00,0.00,4.25,3.04,0.00,0.00,6.84,0.98,0.00,0.00,4.41,2.97,0.00,0.00,3.79,6.83,4.77,5.31,7.21,1.21,0.00,0.00,0.00,1.80,3.03,2.87,0.82,0.00,0.00,0.00,0.00,0.00,0.00,0.00,0.00,0.00,0.00],\n",
    "[0.00,0.00,0.60,3.17,4.55,2.88,0.00,0.00,0.00,0.00,4.48,5.01,3.26,7.00,0.23,0.00,0.00,0.00,0.00,0.00,0.00,6.54,0.76,0.00,0.00,0.00,0.00,0.00,3.04,6.24,0.15,0.00,0.00,0.00,0.08,4.08,7.30,2.58,1.51,0.07,0.00,0.00,4.17,7.60,7.36,6.15,6.46,1.14,0.00,0.00,1.89,2.04,0.30,0.00,0.00,0.00,0.00,0.00,0.00,0.00,0.00,0.00,0.00,0.00],\n",
    "[0.37,2.27,2.28,1.82,1.44,0.00,0.00,0.00,3.58,6.32,5.32,6.01,7.61,0.46,0.00,0.00,3.81,3.49,0.00,1.51,7.09,0.00,0.00,0.00,2.12,7.21,5.76,7.06,6.10,0.00,0.00,0.00,0.00,0.52,2.11,2.57,6.09,0.00,0.00,0.00,0.00,0.00,0.00,1.52,5.48,0.00,0.00,0.00,0.00,0.00,0.00,0.84,3.50,0.00,0.00,0.00,0.00,0.00,0.00,0.00,0.00,0.00,0.00,0.00]\n",
    "])"
   ]
  },
  {
   "cell_type": "code",
   "execution_count": 26,
   "metadata": {
    "tags": []
   },
   "outputs": [
    {
     "output_type": "stream",
     "name": "stdout",
     "text": "[8 6 8 7]\n"
    }
   ],
   "source": [
    "new_labels = model.predict(new_samples)\n",
    "print(new_labels)"
   ]
  },
  {
   "cell_type": "markdown",
   "metadata": {},
   "source": [
    "But wait, because this is a clustering algorithm, I don’t know which label is which.\n",
    "\n",
    "By looking at the cluster centers, I will map out each of the labels with the digits we think it represents (using the index info above)."
   ]
  },
  {
   "cell_type": "code",
   "execution_count": 15,
   "metadata": {
    "tags": []
   },
   "outputs": [
    {
     "output_type": "stream",
     "name": "stdout",
     "text": "7475"
    }
   ],
   "source": [
    "for i in range(len(new_labels)):\n",
    "  if new_labels[i] == 0:\n",
    "    print(0, end='')\n",
    "  elif new_labels[i] == 1:\n",
    "    print(9, end='')\n",
    "  elif new_labels[i] == 2:\n",
    "    print(2, end='')\n",
    "  elif new_labels[i] == 3:\n",
    "    print(1, end='')\n",
    "  elif new_labels[i] == 4:\n",
    "    print(6, end='')\n",
    "  elif new_labels[i] == 5:\n",
    "    print(8, end='')\n",
    "  elif new_labels[i] == 6:\n",
    "    print(4, end='')\n",
    "  elif new_labels[i] == 7:\n",
    "    print(5, end='')\n",
    "  elif new_labels[i] == 8:\n",
    "    print(7, end='')\n",
    "  elif new_labels[i] == 9:\n",
    "    print(3, end='')"
   ]
  },
  {
   "cell_type": "markdown",
   "metadata": {},
   "source": [
    "The input to the model was 2029 and the output of the model was 7475. Accuracy was very poor, or my handwriting was very poor! The model handwritten digits was from the 1990's.\n",
    "\n",
    "I am going to try and replicate the handwriting more closely from the image outputs above. "
   ]
  },
  {
   "cell_type": "code",
   "execution_count": 30,
   "metadata": {},
   "outputs": [],
   "source": [
    "new_samples_2 = np.array([\n",
    "[0.00,0.23,4.71,6.85,6.85,3.05,0.00,0.00,0.23,6.01,5.78,1.29,2.36,6.63,0.00,0.00,0.99,5.10,0.23,0.00,0.76,6.86,0.00,0.00,0.00,0.00,0.00,0.00,2.21,6.55,0.00,0.00,0.00,0.00,0.00,0.38,6.48,3.04,0.00,0.00,0.00,0.00,0.46,5.79,5.71,0.15,0.00,0.00,0.00,0.76,6.10,6.86,2.51,3.05,1.30,0.00,0.00,4.26,7.08,5.86,5.32,5.02,2.06,0.00],\n",
    "[0.00,0.00,1.52,7.47,7.47,4.03,0.00,0.00,0.00,0.00,4.87,4.49,0.99,7.38,1.14,0.00,0.00,0.08,7.16,1.21,0.00,5.10,3.05,0.00,0.00,0.99,7.16,0.00,0.00,4.56,3.05,0.00,0.00,2.28,5.79,0.00,0.00,4.79,3.05,0.00,0.00,2.28,5.34,0.00,0.00,5.33,2.44,0.00,0.00,1.82,6.63,0.08,0.00,5.86,2.13,0.00,0.00,0.15,6.62,5.41,4.80,7.30,1.06,0.00],\n",
    "[0.00,0.08,3.72,7.23,5.93,7.47,0.08,0.00,0.00,4.64,6.46,1.97,0.00,7.16,0.76,0.00,0.00,3.81,0.53,0.00,0.99,7.47,0.38,0.00,0.00,0.00,0.00,0.00,5.26,4.72,0.00,0.00,0.00,0.00,0.00,2.97,6.78,0.30,0.00,0.00,0.00,0.00,0.84,7.24,2.28,0.00,0.00,0.00,0.00,0.00,4.95,5.94,1.91,2.29,2.06,0.00,0.00,1.21,7.30,6.09,6.08,5.33,5.11,0.00],\n",
    "[0.00,0.00,5.87,6.63,6.86,1.75,0.00,0.00,0.00,0.61,7.47,0.30,5.94,3.89,0.00,0.00,0.00,0.68,7.32,0.68,3.81,5.72,0.00,0.00,0.00,0.00,4.56,7.31,7.23,7.24,0.23,0.00,0.00,0.00,0.00,0.61,0.76,7.01,0.76,0.00,0.00,0.00,0.00,0.00,0.38,7.39,0.61,0.00,0.00,0.00,0.00,0.00,1.67,6.86,0.00,0.00,0.00,0.00,2.97,6.40,7.39,4.11,0.00,0.00]\n",
    "])"
   ]
  },
  {
   "cell_type": "code",
   "execution_count": 31,
   "metadata": {
    "tags": []
   },
   "outputs": [
    {
     "output_type": "stream",
     "name": "stdout",
     "text": "[8 0 8 1]\n7079"
    }
   ],
   "source": [
    "new_labels_2 = model.predict(new_samples_2)\n",
    "print(new_labels_2)\n",
    "\n",
    "for i in range(len(new_labels_2)):\n",
    "  if new_labels_2[i] == 0:\n",
    "    print(0, end='')\n",
    "  elif new_labels_2[i] == 1:\n",
    "    print(9, end='')\n",
    "  elif new_labels_2[i] == 2:\n",
    "    print(2, end='')\n",
    "  elif new_labels_2[i] == 3:\n",
    "    print(1, end='')\n",
    "  elif new_labels_2[i] == 4:\n",
    "    print(6, end='')\n",
    "  elif new_labels_2[i] == 5:\n",
    "    print(8, end='')\n",
    "  elif new_labels_2[i] == 6:\n",
    "    print(4, end='')\n",
    "  elif new_labels_2[i] == 7:\n",
    "    print(5, end='')\n",
    "  elif new_labels_2[i] == 8:\n",
    "    print(7, end='')\n",
    "  elif new_labels_2[i] == 9:\n",
    "    print(3, end='')"
   ]
  },
  {
   "cell_type": "markdown",
   "metadata": {},
   "source": [
    "I used the same Codecademy tool again to generate an array based on 2029 trying to match the samples more closely, as you can see to out of the fours numbers was correct. It would seem my 2's are very close to 7'2 for this model.\n",
    "\n",
    "Trying something more simple, let's try 3333. "
   ]
  },
  {
   "cell_type": "code",
   "execution_count": 32,
   "metadata": {},
   "outputs": [],
   "source": [
    "new_samples_3 = np.array([\n",
    "[0.00,0.46,4.88,5.87,7.63,3.66,0.00,0.00,0.15,5.87,5.11,2.29,1.98,7.40,0.00,0.00,1.30,6.48,0.23,0.00,0.00,7.62,0.00,0.00,0.00,0.00,0.00,0.00,3.28,7.02,0.00,0.00,0.00,0.00,0.00,5.41,7.32,7.40,3.13,0.00,0.00,0.00,0.00,0.99,0.38,2.29,6.10,0.00,0.00,0.00,0.00,0.23,2.59,6.40,4.80,0.00,0.00,5.19,6.86,7.55,6.48,3.20,0.23,0.00],\n",
    "[0.00,0.23,4.12,6.41,7.63,7.17,4.88,0.00,0.15,5.79,5.79,2.29,0.53,2.29,5.34,0.00,0.38,4.65,0.23,0.00,0.00,4.42,5.11,0.00,0.00,0.00,0.00,3.13,5.95,7.32,1.15,0.00,0.00,0.00,0.00,3.89,4.57,6.71,3.59,0.00,0.00,0.00,0.00,0.00,0.00,3.74,4.42,0.00,0.00,0.00,0.00,0.00,0.08,5.11,3.81,0.00,0.00,0.84,5.34,5.64,7.09,6.48,0.99,0.00],\n",
    "[0.00,0.69,4.96,7.55,6.79,6.18,0.15,0.00,0.00,5.57,5.19,1.07,0.08,6.40,2.06,0.00,0.00,0.46,0.00,0.00,0.00,5.57,2.29,0.00,0.00,0.00,0.00,1.60,4.58,7.32,0.92,0.00,0.00,0.00,0.46,6.02,6.10,7.09,3.36,0.00,0.00,0.00,0.00,0.00,0.00,2.90,5.19,0.00,0.00,0.00,0.00,0.00,0.00,2.82,5.34,0.00,0.00,0.31,4.65,5.87,6.94,7.40,3.51,0.00],\n",
    "[0.00,2.97,7.24,7.02,7.09,5.87,2.36,0.00,0.00,6.64,2.06,0.08,1.15,4.27,4.57,0.00,0.00,1.75,0.08,0.00,1.30,6.94,3.05,0.00,0.00,0.00,0.00,1.60,6.86,4.35,0.00,0.00,0.00,0.00,2.29,7.55,7.32,7.32,1.22,0.00,0.00,0.00,0.38,1.15,0.00,5.41,2.29,0.00,0.00,0.00,0.00,0.00,0.08,6.02,2.29,0.00,0.00,2.06,4.12,5.41,6.71,6.48,0.61,0.00]\n",
    "])"
   ]
  },
  {
   "cell_type": "code",
   "execution_count": 33,
   "metadata": {
    "tags": []
   },
   "outputs": [
    {
     "output_type": "stream",
     "name": "stdout",
     "text": "[9 1 9 9]\n3933"
    }
   ],
   "source": [
    "new_labels_3 = model.predict(new_samples_3)\n",
    "print(new_labels_3)\n",
    "\n",
    "for i in range(len(new_labels_3)):\n",
    "  if new_labels_3[i] == 0:\n",
    "    print(0, end='')\n",
    "  elif new_labels_3[i] == 1:\n",
    "    print(9, end='')\n",
    "  elif new_labels_3[i] == 2:\n",
    "    print(2, end='')\n",
    "  elif new_labels_3[i] == 3:\n",
    "    print(1, end='')\n",
    "  elif new_labels_3[i] == 4:\n",
    "    print(6, end='')\n",
    "  elif new_labels_3[i] == 5:\n",
    "    print(8, end='')\n",
    "  elif new_labels_3[i] == 6:\n",
    "    print(4, end='')\n",
    "  elif new_labels_3[i] == 7:\n",
    "    print(5, end='')\n",
    "  elif new_labels_3[i] == 8:\n",
    "    print(7, end='')\n",
    "  elif new_labels_3[i] == 9:\n",
    "    print(3, end='')"
   ]
  },
  {
   "cell_type": "markdown",
   "metadata": {},
   "source": [
    "This time it is a lot closer!"
   ]
  }
 ],
 "metadata": {
  "language_info": {
   "codemirror_mode": {
    "name": "ipython",
    "version": 3
   },
   "file_extension": ".py",
   "mimetype": "text/x-python",
   "name": "python",
   "nbconvert_exporter": "python",
   "pygments_lexer": "ipython3",
   "version": "3.7.10-final"
  },
  "orig_nbformat": 2,
  "kernelspec": {
   "name": "python371064bitmyenvconda1da8a860bc054dcfb4058b2e550ba27d",
   "display_name": "Python 3.7.10 64-bit ('myenv': conda)"
  }
 },
 "nbformat": 4,
 "nbformat_minor": 2
}